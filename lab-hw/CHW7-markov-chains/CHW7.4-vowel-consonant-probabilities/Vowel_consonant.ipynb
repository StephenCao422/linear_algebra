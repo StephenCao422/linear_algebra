{
 "cells": [
  {
   "cell_type": "code",
   "execution_count": 6,
   "id": "fifteen-animation",
   "metadata": {},
   "outputs": [],
   "source": [
    "import numpy as np\n",
    "import numpy.linalg as la\n",
    "\n",
    "def power_iteration(M, x):\n",
    "    norm_tol = 1e-3\n",
    "    stop_tol = 1e-7\n",
    "\n",
    "    norm = la.norm(x, 1)\n",
    "    if abs(norm - 1) > norm_tol:\n",
    "        return x\n",
    "        #raise Exception(f'x is not normalized! entry sum: {norm}')\n",
    "\n",
    "    xc = M@x\n",
    "    while la.norm(xc - x, 1) > stop_tol:\n",
    "        x = xc\n",
    "        xc = M@xc\n",
    "    return xc\n",
    "    \n",
    "def isVowel(x):\n",
    "    \n",
    "    if (x == 'a' or x == 'e' or x == 'i' or x == 'o' or x == 'u' or \n",
    "        x == 'A' or x == 'E' or x == 'I' or x == 'O' or x == 'U' ):\n",
    "        return True\n",
    "    else:\n",
    "        return False"
   ]
  },
  {
   "cell_type": "code",
   "execution_count": 7,
   "id": "serial-cleveland",
   "metadata": {},
   "outputs": [],
   "source": [
    "file = open(\"Shakesphere_AMidsummer-NightsDream.txt\", \"r\")\n",
    "poem = file.read()\n",
    "file.close()"
   ]
  },
  {
   "cell_type": "markdown",
   "id": "pharmaceutical-hollow",
   "metadata": {},
   "source": [
    "## 1) Compute the 2 $\\times$2 `markov_matrix` transition matrix for the above Markov chain.\n",
    "\n",
    "Use the string `poem` to create a list of 0's and 1's with the `i`th element being 1 if `poem[i]` is a vowel and 0 otherwise (use the provided `isVowel` function). Store this as an array `L`.\n",
    "\n",
    "Once you have the list of 0's and 1's, iterate through the list and count the number of transitions from 0 to 0, 0 to 1, 1 to 0 and 1 to 1 and save it into a matrix `A`. Make sure you have the elements `A[i,j]` = number of transitions from **j** to **i**. Normalize the matrix so that the columns sum to 1 to get `markov_matrix`."
   ]
  },
  {
   "cell_type": "code",
   "execution_count": 9,
   "id": "sticky-tiffany",
   "metadata": {},
   "outputs": [],
   "source": [
    "#grade\n",
    "L = []\n",
    "for i in range(len(poem)):\n",
    "    if isVowel(poem[i]):\n",
    "        L.append(1)\n",
    "    else:\n",
    "        L.append(0)\n",
    "transition_matrix = np.zeros((2, 2))\n",
    "for i in range(len(L) - 1):\n",
    "    if L[i] == 0 and L[i+1] == 0:\n",
    "        transition_matrix[0][0] += 1\n",
    "    elif L[i] == 0 and L[i+1] == 1:\n",
    "        transition_matrix[0][1] += 1\n",
    "    elif L[i] == 1 and L[i+1] == 0:\n",
    "        transition_matrix[1][0] += 1\n",
    "    else:\n",
    "        transition_matrix[1][1] += 1\n",
    "divider = np.sum(transition_matrix, axis = 0)\n",
    "markov_matrix = transition_matrix / divider"
   ]
  },
  {
   "cell_type": "markdown",
   "id": "excess-punch",
   "metadata": {},
   "source": [
    "## 2) Compute the steady state vector of this system\n",
    "\n",
    "Find a probability vector which is an eigenvector of markov_matrix with eigenvalue 1. Use the provided function `power_iteration` to get the steady-state eigenvector x of the `markov_matrix` (you do not need to implement your own power iteration method). This is the same function that you created during the computational lab.\n",
    "\n",
    "Use initial vector x0 = (0.5,0.5). Save this as steady_state."
   ]
  },
  {
   "cell_type": "code",
   "execution_count": 17,
   "id": "latin-skating",
   "metadata": {},
   "outputs": [
    {
     "name": "stdout",
     "output_type": "stream",
     "text": [
      "[0.64670659 0.35329341]\n"
     ]
    }
   ],
   "source": [
    "#grade\n",
    "x0 = np.array([0.5, 0.5])\n",
    "steady_state = power_iteration(markov_matrix, x0)\n",
    "print(steady_state)"
   ]
  },
  {
   "cell_type": "markdown",
   "id": "handy-therapist",
   "metadata": {},
   "source": [
    "## 3) Starting at a consonant, what is the probabilty that the third letter after it is a vowel? \n",
    "\n",
    "If our string is \"$\\alpha$ _ _ $\\beta$ _ ...\", what is the probability that $\\beta$ is a vowel when $\\alpha$ is a consonant? Save this as 'prob_consonant_to_vowel_3'."
   ]
  },
  {
   "cell_type": "code",
   "execution_count": 18,
   "id": "varied-december",
   "metadata": {},
   "outputs": [
    {
     "name": "stdout",
     "output_type": "stream",
     "text": [
      "[0.63932097 0.66022603]\n"
     ]
    }
   ],
   "source": [
    "#grade\n",
    "x1 = np.array([1, 0])\n",
    "for i in range(3):\n",
    "    x1 = x1 @ markov_matrix\n",
    "print(x1)\n",
    "prob_consonant_to_vowel_3 = x1[1]"
   ]
  },
  {
   "cell_type": "code",
   "execution_count": null,
   "id": "settled-sampling",
   "metadata": {},
   "outputs": [],
   "source": []
  }
 ],
 "metadata": {
  "kernelspec": {
   "display_name": "Python 3",
   "language": "python",
   "name": "python3"
  },
  "language_info": {
   "codemirror_mode": {
    "name": "ipython",
    "version": 3
   },
   "file_extension": ".py",
   "mimetype": "text/x-python",
   "name": "python",
   "nbconvert_exporter": "python",
   "pygments_lexer": "ipython3",
   "version": "3.8.6"
  }
 },
 "nbformat": 4,
 "nbformat_minor": 5
}
