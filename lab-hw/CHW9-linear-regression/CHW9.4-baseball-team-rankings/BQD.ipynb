{
 "cells": [
  {
   "cell_type": "code",
   "execution_count": 1,
   "metadata": {},
   "outputs": [
    {
     "name": "stderr",
     "output_type": "stream",
     "text": [
      "Matplotlib created a temporary config/cache directory at /tmp/matplotlib-0tsliwpd because the default path (/tmp/cache/matplotlib) is not a writable directory; it is highly recommended to set the MPLCONFIGDIR environment variable to a writable directory, in particular to speed up the import of Matplotlib and to better support multiprocessing.\n"
     ]
    }
   ],
   "source": [
    "import numpy as np\n",
    "import numpy.linalg as la\n",
    "import scipy.linalg as sla\n",
    "import matplotlib.pyplot as plt\n",
    "import pandas as pd\n",
    "import make_table"
   ]
  },
  {
   "cell_type": "code",
   "execution_count": 2,
   "metadata": {},
   "outputs": [],
   "source": [
    "def least_sq(A, y):\n",
    "    Q,R = np.linalg.qr(A)\n",
    "    x = sla.solve_triangular(R,Q.T@ y)\n",
    "    return x"
   ]
  },
  {
   "cell_type": "markdown",
   "metadata": {},
   "source": [
    "# Baseball Team Rankings"
   ]
  },
  {
   "cell_type": "markdown",
   "metadata": {},
   "source": [
    "## Part 1: A small example"
   ]
  },
  {
   "cell_type": "markdown",
   "metadata": {},
   "source": [
    "In this question, you will estimate the \"rankings\" of baseball teams using their past game performance.\n",
    "We will first do a tiny example to show how one might try to rank four teams, A,B,C,D who all played against one another in a season."
   ]
  },
  {
   "cell_type": "markdown",
   "metadata": {},
   "source": [
    "Game 1: Team A vs Team B: 1-4<br>\n",
    "Game 2: Team C vs Team D: 4-3<br>\n",
    "Game 3: Team A vs Team C: 9-5<br>\n",
    "Game 4: Team B vs Team D: 6-8<br> \n",
    "Game 5: Team A vs Team D: 9-0<br>\n",
    "Game 6: Team B vs Team C: 3-8"
   ]
  },
  {
   "cell_type": "markdown",
   "metadata": {},
   "source": [
    "Now, let us suppose that the object of our ranking system is that the difference in the rankings between Team I and Team J should correspond to the point difference in a game where Team I plays Team J.<br>\n",
    "This gives us, for each pair of teams, a linear equation\n",
    "$$r_I - r_J = y_{IJ}$$\n",
    "where $r_I$ is the ranking of Team $I$, and $y_{IJ}$ is the score difference between Team $I$ and Team $J$."
   ]
  },
  {
   "cell_type": "markdown",
   "metadata": {},
   "source": [
    "$\\textbf{1.}$ Write down the matrix equation $Ar = Y$ which corresponds to this system of linear equations. Each row corresponds to one game, and each column corresponds to a team. Write the vector $Y$ such that each entry is positive. For example, for Game 1, in the since Team B won and Team A lost, we will put a \"1\" in the frst row in the B column, and a \"-1\" in the A column, and \"0\"'s in the rest of row 1. The score difference was 3, so a 3 will be the first entry of $y$."
   ]
  },
  {
   "cell_type": "markdown",
   "metadata": {},
   "source": [
    "$$\\begin{matrix}A&B&C&D\\end{matrix}$$\n",
    "$$\n",
    "\\hspace{.6cm}\\begin{matrix}Game\\:1\\\\ Game\\:2\\\\ Game\\:3\\\\ Game\\:4\\\\ Game\\:5\\\\ Game\\:6\\end{matrix}\\begin{pmatrix}-1&1&0&0\\\\ _{_{ }}&_{ }&_{ }&_{ }\\\\ _{ }&_{ }&_{ }&_{ }\\\\ &&&\\\\ &&&\\\\ &&&\\end{pmatrix}\\begin{pmatrix}r_A\\\\ r_B\\\\ r_C\\\\ r_D\\end{pmatrix}=\\begin{pmatrix}3\\\\ _{ }\\\\ _{ }\\\\ \\\\ \\\\ \\end{pmatrix}\n",
    " $$\n",
    "Enter the matrix <code>A</code> below as a (6,4) numpy array, and the vector <code>Y</code> as a (6, ) numpy array. Although the order of the rows doesn't matter for a system of equations, the rows of your matrix should be ordered according to the game order above for grading purposes."
   ]
  },
  {
   "cell_type": "markdown",
   "metadata": {},
   "source": [
    "The resulting matrix is called the Massey Matrix."
   ]
  },
  {
   "cell_type": "code",
   "execution_count": 3,
   "metadata": {},
   "outputs": [],
   "source": [
    "#grade\n",
    "A = np.array([\n",
    "    [-1,1,0,0],\n",
    "    [0,0,1,-1],\n",
    "    [1,0,-1,0],\n",
    "    [0,-1,0,1],\n",
    "    [1,0,0,-1],\n",
    "    [0,-1,1,0]\n",
    "])\n",
    "y = np.array([3, 1, 4, 2, 9, 5]).T"
   ]
  },
  {
   "cell_type": "code",
   "execution_count": 4,
   "metadata": {},
   "outputs": [
    {
     "name": "stdout",
     "output_type": "stream",
     "text": [
      "[-1.37927981e+16 -1.37927981e+16 -1.37927981e+16 -1.37927981e+16]\n"
     ]
    }
   ],
   "source": [
    "#Check the least squares solution to your system using the function least_sq from class\n",
    "r= least_sq(A,y)\n",
    "print(r)"
   ]
  },
  {
   "cell_type": "markdown",
   "metadata": {},
   "source": [
    "$\\textbf{Question:}$ Are the ranking we've obtained unique? That is, is there a unique solution to the least squares system $A^TAx = A^Ty$?"
   ]
  },
  {
   "cell_type": "markdown",
   "metadata": {},
   "source": [
    "$\\textbf{Answer:}$ No, we can compute the rank of $A^TA$ and see that it is not full rank! Thus we don't have unique least squares rankings. That is why Python may give zero as the \"least squares solution\"."
   ]
  },
  {
   "cell_type": "code",
   "execution_count": 5,
   "metadata": {},
   "outputs": [
    {
     "name": "stdout",
     "output_type": "stream",
     "text": [
      "A^TA = [[ 3 -1 -1 -1]\n",
      " [-1  3 -1 -1]\n",
      " [-1 -1  3 -1]\n",
      " [-1 -1 -1  3]]\n",
      "The rank of A^TA is 3\n"
     ]
    }
   ],
   "source": [
    "ATA = np.transpose(A) @A\n",
    "print('A^TA =', ATA)\n",
    "print('The rank of A^TA is', np.linalg.matrix_rank(ATA))"
   ]
  },
  {
   "cell_type": "markdown",
   "metadata": {},
   "source": [
    "$\\textbf{How to fix it:}$ Recall $\\text{Nul(A)}=\\text{Nul}(A^TA)$ and that the solution to the system $A^TAx = A^Ty$ is unique iff $\\text{Nul}(A^TA)=\\{0\\}$. <p>\n",
    "\n",
    "Also recall that $A^TAx=A^Ty$ has a unique solution iff $A$ is full rank. <p>\n",
    "    \n",
    "But this will never be true for the A we have constructed because the columns are dependent. Notice that we will always obtain a symmetric matrix (the number of games team I plays against team J is the same as the umber of games team J plays against team I). We will also always obtain linearly dependent columns because the game history of a team is completely determined by the game history of every other team.<p>\n",
    "    How can we fix this?<p>\n",
    "    \n",
    "One possible solution is to set $\\sum_j{r_j} = 0$. This adds one more constraint on the system.<p>\n",
    "\n",
    "Adding one row of ones and a zero to $A$ does this. <p>\n",
    "    \n",
    "Note $v = (1,...,1)$ is always in the null space of $A$ because each row contains a $1$ and a $-1$. So $v$ is in $\\text{Nul}(A^TA)$. So the sum of the columns of $A^TA$ is zero, and since $A^TA$ is symmetric, the sum of the rows must be zero also.<p>\n",
    "$$(A^Ty)^Tv = y^TAv = 0,$$ so $v\\in \\text{Nul}(A^Ty)^T$. Thus, $\\textbf{any one of the normal equations in  can be eliminated and replaced by the equation}$ $$\\sum_j{r_j} = 0.$$ In other words, $\\textbf{in practice, after we find $A^TA$, we can delete the last line and replace it by all ones, and change the last entry of $A^Ty$ to a zero}$"
   ]
  },
  {
   "cell_type": "code",
   "execution_count": 6,
   "metadata": {},
   "outputs": [
    {
     "name": "stdout",
     "output_type": "stream",
     "text": [
      "[[ 3 -1 -1 -1]\n",
      " [-1  3 -1 -1]\n",
      " [-1 -1  3 -1]\n",
      " [ 1  1  1  1]]\n",
      "[10 -4  2  0]\n",
      "The rank of our altered matrix X is 4\n"
     ]
    }
   ],
   "source": [
    "X = ATA\n",
    "X[np.shape(X)[1]-1,:] = np.ones(np.shape(X))[np.shape(X)[1]-1,:]\n",
    "p = (np.transpose(A)@y)\n",
    "p[np.shape(p)[0]-1]=0\n",
    "print(X)\n",
    "print(p)\n",
    "print(\"The rank of our altered matrix X is\", np.linalg.matrix_rank(X))\n"
   ]
  },
  {
   "cell_type": "markdown",
   "metadata": {},
   "source": [
    "It works! We have obtained a full rank matrix.\n",
    "We can then solve this system using Least Squares and obtain unique rankings for all the teams:"
   ]
  },
  {
   "cell_type": "code",
   "execution_count": 7,
   "metadata": {},
   "outputs": [
    {
     "name": "stdout",
     "output_type": "stream",
     "text": [
      "Team A has rank 2.5\n",
      "Team B has rank -1.0000000000000002\n",
      "Team C has rank 0.5\n",
      "Team D has rank -2.0\n"
     ]
    }
   ],
   "source": [
    "r = la.solve(X,p)\n",
    "\n",
    "Teams = ['Team A', 'Team B', 'Team C', 'Team D']\n",
    "for i in range(len(Teams)):\n",
    "    print(Teams[i],'has rank',r[i])"
   ]
  },
  {
   "cell_type": "markdown",
   "metadata": {},
   "source": [
    "## Part 2: Application to real data"
   ]
  },
  {
   "cell_type": "markdown",
   "metadata": {},
   "source": [
    "Now let's try to use the same method on the real 2021 season MLB Baseball data. The following dataset was downloade from https://www.retrosheet.org/gamelogs/index.html:"
   ]
  },
  {
   "cell_type": "code",
   "execution_count": 8,
   "metadata": {},
   "outputs": [
    {
     "name": "stdout",
     "output_type": "stream",
     "text": [
      "   Visiting_Team Home_Team  Visiting_Score  Home_Score\n",
      "             ANA       ARI               6           5\n",
      "             ANA       ARI               8           7\n",
      "             ANA       ARI              10           3\n",
      "             ANA       BAL              14           8\n",
      "             ANA       BAL               6          10\n",
      "..           ...       ...             ...         ...\n",
      "             WAS       SLN               6           0\n",
      "             WAS       TBA               1           3\n",
      "             WAS       TBA               9           7\n",
      "             WAS       TOR               5           9\n",
      "             WAS       TOR               8           2\n",
      "\n",
      "[2429 rows x 4 columns]\n"
     ]
    }
   ],
   "source": [
    "data = pd.read_csv('GL2021.csv')\n",
    "data=data.drop(labels=['Game_Date','Game_Number','Day_of_Week','Visiting_League','Visiting_Game_Number','Home_League','Home_Game_Number','Day_Night','Game_Length'],axis=1)\n",
    "data.index=[''] * len(data)\n",
    "print(data)"
   ]
  },
  {
   "cell_type": "markdown",
   "metadata": {},
   "source": [
    "The columns are ordered alphabetically by the visiting team column and we've gotten rid of some extraneous columns. for ease, the data is provided to you in a numpy array <code>Table</code> with the team names replaced by a number."
   ]
  },
  {
   "cell_type": "code",
   "execution_count": 9,
   "metadata": {},
   "outputs": [
    {
     "name": "stdout",
     "output_type": "stream",
     "text": [
      "[[0 1 6 5]\n",
      " [0 1 8 7]\n",
      " [0 1 10 3]\n",
      " ...\n",
      " [29 26 9 7]\n",
      " [29 28 5 9]\n",
      " [29 28 8 2]]\n"
     ]
    }
   ],
   "source": [
    "Table = make_table.Table\n",
    "Teams = make_table.Teams\n",
    "print(Table)"
   ]
  },
  {
   "cell_type": "markdown",
   "metadata": {},
   "source": [
    "$\\textbf{3. Create the Massey matrix A, and vector y}$ Now we can write a code which uses the above table to produce the massey matrix. It should contain a 1 in the column of the winning team and a -1 in the column of the losing team. We'll store this value as <code>massey_matrix</code>. \n",
    "\n",
    "There are 30 teams so the massey matrix should have 30 columns.\n",
    "\n",
    "We can at the same time create the point differential vector <code>s</code>. Each entry should be the (positive) difference in the number of points between the two teams that played:\n",
    "Here is an example of how we can programatically generate such a matrix."
   ]
  },
  {
   "cell_type": "code",
   "execution_count": 11,
   "metadata": {},
   "outputs": [
    {
     "name": "stdout",
     "output_type": "stream",
     "text": [
      "[[ 1. -1.  0. ...  0.  0.  0.]\n",
      " [ 1. -1.  0. ...  0.  0.  0.]\n",
      " [ 1. -1.  0. ...  0.  0.  0.]\n",
      " ...\n",
      " [ 0.  0.  0. ...  0.  0.  1.]\n",
      " [ 0.  0.  0. ...  0.  1. -1.]\n",
      " [ 0.  0.  0. ...  0. -1.  1.]] [1. 1. 7. ... 2. 4. 6.]\n"
     ]
    }
   ],
   "source": [
    "massey_matrix = np.zeros(shape = (len(Table),len(Teams)))\n",
    "s = np.zeros(len(Table))\n",
    "for i in range(0,len(Table)):\n",
    "    j = Table[i,0]\n",
    "    k = Table[i,1]\n",
    "    point_diff = Table[i,2] - Table[i,3]\n",
    "    if point_diff >0:\n",
    "        massey_matrix[i,j]=1\n",
    "        massey_matrix[i,k]=-1\n",
    "        s[i]=point_diff\n",
    "    if point_diff<0:\n",
    "        massey_matrix[i,j]=-1\n",
    "        massey_matrix[i,k]=1\n",
    "        s[i]=-point_diff\n",
    "print(massey_matrix,s)"
   ]
  },
  {
   "cell_type": "markdown",
   "metadata": {},
   "source": [
    "$\\textbf{4.}$ In order to fix the problem of rank for the least squares system, use the trick above and replace the last row of $A^TA$ with a row of ones, and the last entry of $A^Ts$ with a zero to capture the equation $\\sum_{j}r_j = 0$, using <code>massey_matrix</code> as $A$.\n",
    "Store the resulting matrix as <code>X</code>, and the resulting vector as <code>p</code>."
   ]
  },
  {
   "cell_type": "code",
   "execution_count": 13,
   "metadata": {},
   "outputs": [],
   "source": [
    "#grade\n",
    "X = massey_matrix.T @ massey_matrix\n",
    "X[np.shape(X)[1]-1,:] = np.ones(np.shape(X))[np.shape(X)[1]-1:]\n",
    "p = np.transpose(massey_matrix)@s\n",
    "p[np.shape(p)[0]-1]=0\n",
    "# print(X)\n",
    "# print(p)"
   ]
  },
  {
   "cell_type": "markdown",
   "metadata": {},
   "source": [
    "Finally, solve the system $Xr = p$. Store the vector $r$ as <code>rankings</code>. You may use <code>la.solve</code> for this question."
   ]
  },
  {
   "cell_type": "code",
   "execution_count": 15,
   "metadata": {},
   "outputs": [],
   "source": [
    "#grade\n",
    "rankings = la.solve(X, p)\n"
   ]
  },
  {
   "cell_type": "markdown",
   "metadata": {},
   "source": [
    "Finally, run this cell to sort the list of rankings and print the rankings of each team!"
   ]
  },
  {
   "cell_type": "code",
   "execution_count": 16,
   "metadata": {},
   "outputs": [
    {
     "name": "stdout",
     "output_type": "stream",
     "text": [
      "Team   Ranking\n",
      " LAN  1.567014\n",
      " TBA  1.274325\n",
      " SFN  1.233793\n",
      " HOU  1.202525\n",
      " TOR  1.170958\n",
      " CHA  0.794020\n",
      " ATL  0.702687\n",
      " BOS  0.597071\n",
      " MIL  0.440930\n",
      " OAK  0.400509\n",
      " NYA  0.377939\n",
      " SDN  0.214326\n",
      " SLN -0.009017\n",
      " CIN -0.039366\n",
      " PHI -0.106722\n",
      " CLE -0.123638\n",
      " NYN -0.227051\n",
      " SEA -0.231304\n",
      " COL -0.236326\n",
      " ANA -0.338024\n",
      " DET -0.422279\n",
      " MIA -0.456290\n",
      " WAS -0.583594\n",
      " KCA -0.635421\n",
      " MIN -0.642204\n",
      " CHN -0.903748\n",
      " TEX -0.993257\n",
      " ARI -1.098826\n",
      " PIT -1.422808\n",
      " BAL -1.506221\n"
     ]
    }
   ],
   "source": [
    "df2 = pd.DataFrame(Teams, columns = ['Team'])\n",
    "df2['Ranking'] = rankings\n",
    "df2=df2.sort_values(by='Ranking',ascending=False)\n",
    "print(df2.to_string(index=False))"
   ]
  },
  {
   "cell_type": "code",
   "execution_count": null,
   "metadata": {},
   "outputs": [],
   "source": []
  }
 ],
 "metadata": {
  "kernelspec": {
   "display_name": "Python 3",
   "language": "python",
   "name": "python3"
  },
  "language_info": {
   "codemirror_mode": {
    "name": "ipython",
    "version": 3
   },
   "file_extension": ".py",
   "mimetype": "text/x-python",
   "name": "python",
   "nbconvert_exporter": "python",
   "pygments_lexer": "ipython3",
   "version": "3.8.6"
  }
 },
 "nbformat": 4,
 "nbformat_minor": 4
}
