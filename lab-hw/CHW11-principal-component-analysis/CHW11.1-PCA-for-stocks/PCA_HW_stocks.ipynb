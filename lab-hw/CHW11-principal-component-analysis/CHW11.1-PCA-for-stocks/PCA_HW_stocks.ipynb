{
 "cells": [
  {
   "cell_type": "code",
   "execution_count": 1,
   "id": "acceptable-boston",
   "metadata": {},
   "outputs": [
    {
     "name": "stderr",
     "output_type": "stream",
     "text": [
      "Matplotlib created a temporary config/cache directory at /tmp/matplotlib-bf0j8830 because the default path (/tmp/cache/matplotlib) is not a writable directory; it is highly recommended to set the MPLCONFIGDIR environment variable to a writable directory, in particular to speed up the import of Matplotlib and to better support multiprocessing.\n"
     ]
    }
   ],
   "source": [
    "import pandas as pd\n",
    "import numpy as np\n",
    "import numpy.linalg as la\n",
    "import matplotlib.pyplot as plt"
   ]
  },
  {
   "cell_type": "markdown",
   "id": "alone-heart",
   "metadata": {},
   "source": [
    "# Using PCA study similarities in stock behaviour"
   ]
  },
  {
   "cell_type": "markdown",
   "id": "stone-paris",
   "metadata": {},
   "source": [
    "In this example we will use stock prices of 9 companies from Jan 2015 to Mar 2023. Four of the companies belong to the Tech sector and four belong to the Financial sector. There is one company which is unknown."
   ]
  },
  {
   "cell_type": "markdown",
   "id": "ordinary-ottawa",
   "metadata": {},
   "source": [
    "We will use PCA to analyse these stocks and guess the sector to which the unknown company belongs to."
   ]
  },
  {
   "cell_type": "markdown",
   "id": "nonprofit-jesus",
   "metadata": {},
   "source": [
    "The data is given in `stocks.csv` which we import as a data frame using pandas. This dataframe has 2052 rows and 9 columns. Since we are intersted in trends rather than actual stock prices, the data is converted to percent change using `.pct_change()`. This is common practice when looking for trends in time series data."
   ]
  },
  {
   "cell_type": "code",
   "execution_count": 2,
   "id": "renewable-farming",
   "metadata": {},
   "outputs": [
    {
     "data": {
      "text/html": [
       "<div>\n",
       "<style scoped>\n",
       "    .dataframe tbody tr th:only-of-type {\n",
       "        vertical-align: middle;\n",
       "    }\n",
       "\n",
       "    .dataframe tbody tr th {\n",
       "        vertical-align: top;\n",
       "    }\n",
       "\n",
       "    .dataframe thead th {\n",
       "        text-align: right;\n",
       "    }\n",
       "</style>\n",
       "<table border=\"1\" class=\"dataframe\">\n",
       "  <thead>\n",
       "    <tr style=\"text-align: right;\">\n",
       "      <th></th>\n",
       "      <th>AAPL</th>\n",
       "      <th>AMZN</th>\n",
       "      <th>AXP</th>\n",
       "      <th>BAC</th>\n",
       "      <th>GOOG</th>\n",
       "      <th>GS</th>\n",
       "      <th>Unknown</th>\n",
       "      <th>MS</th>\n",
       "      <th>MSFT</th>\n",
       "    </tr>\n",
       "    <tr>\n",
       "      <th>Date</th>\n",
       "      <th></th>\n",
       "      <th></th>\n",
       "      <th></th>\n",
       "      <th></th>\n",
       "      <th></th>\n",
       "      <th></th>\n",
       "      <th></th>\n",
       "      <th></th>\n",
       "      <th></th>\n",
       "    </tr>\n",
       "  </thead>\n",
       "  <tbody>\n",
       "    <tr>\n",
       "      <th>2015-01-05</th>\n",
       "      <td>-0.028172</td>\n",
       "      <td>-0.020517</td>\n",
       "      <td>-0.026446</td>\n",
       "      <td>-0.029050</td>\n",
       "      <td>-0.020846</td>\n",
       "      <td>-0.031223</td>\n",
       "      <td>-0.031045</td>\n",
       "      <td>-0.031258</td>\n",
       "      <td>-0.009196</td>\n",
       "    </tr>\n",
       "    <tr>\n",
       "      <th>2015-01-06</th>\n",
       "      <td>0.000094</td>\n",
       "      <td>-0.022833</td>\n",
       "      <td>-0.021312</td>\n",
       "      <td>-0.029919</td>\n",
       "      <td>-0.023177</td>\n",
       "      <td>-0.020229</td>\n",
       "      <td>-0.025929</td>\n",
       "      <td>-0.028800</td>\n",
       "      <td>-0.014677</td>\n",
       "    </tr>\n",
       "    <tr>\n",
       "      <th>2015-01-07</th>\n",
       "      <td>0.014022</td>\n",
       "      <td>0.010600</td>\n",
       "      <td>0.018842</td>\n",
       "      <td>0.004745</td>\n",
       "      <td>-0.001713</td>\n",
       "      <td>0.014903</td>\n",
       "      <td>0.001526</td>\n",
       "      <td>0.014278</td>\n",
       "      <td>0.012705</td>\n",
       "    </tr>\n",
       "    <tr>\n",
       "      <th>2015-01-08</th>\n",
       "      <td>0.038422</td>\n",
       "      <td>0.006836</td>\n",
       "      <td>0.014175</td>\n",
       "      <td>0.020661</td>\n",
       "      <td>0.003153</td>\n",
       "      <td>0.015965</td>\n",
       "      <td>0.022346</td>\n",
       "      <td>0.014889</td>\n",
       "      <td>0.029418</td>\n",
       "    </tr>\n",
       "    <tr>\n",
       "      <th>2015-01-09</th>\n",
       "      <td>0.001073</td>\n",
       "      <td>-0.011749</td>\n",
       "      <td>-0.012667</td>\n",
       "      <td>-0.017930</td>\n",
       "      <td>-0.012951</td>\n",
       "      <td>-0.015347</td>\n",
       "      <td>-0.017387</td>\n",
       "      <td>-0.016271</td>\n",
       "      <td>-0.008405</td>\n",
       "    </tr>\n",
       "  </tbody>\n",
       "</table>\n",
       "</div>"
      ],
      "text/plain": [
       "                AAPL      AMZN       AXP       BAC      GOOG        GS  \\\n",
       "Date                                                                     \n",
       "2015-01-05 -0.028172 -0.020517 -0.026446 -0.029050 -0.020846 -0.031223   \n",
       "2015-01-06  0.000094 -0.022833 -0.021312 -0.029919 -0.023177 -0.020229   \n",
       "2015-01-07  0.014022  0.010600  0.018842  0.004745 -0.001713  0.014903   \n",
       "2015-01-08  0.038422  0.006836  0.014175  0.020661  0.003153  0.015965   \n",
       "2015-01-09  0.001073 -0.011749 -0.012667 -0.017930 -0.012951 -0.015347   \n",
       "\n",
       "             Unknown        MS      MSFT  \n",
       "Date                                      \n",
       "2015-01-05 -0.031045 -0.031258 -0.009196  \n",
       "2015-01-06 -0.025929 -0.028800 -0.014677  \n",
       "2015-01-07  0.001526  0.014278  0.012705  \n",
       "2015-01-08  0.022346  0.014889  0.029418  \n",
       "2015-01-09 -0.017387 -0.016271 -0.008405  "
      ]
     },
     "execution_count": 2,
     "metadata": {},
     "output_type": "execute_result"
    }
   ],
   "source": [
    "#Import the data\n",
    "\n",
    "stocks = pd.read_csv('stocks.csv', index_col=0).pct_change().dropna()\n",
    "\n",
    "symbols=stocks.columns\n",
    "\n",
    "stocks.head()\n"
   ]
  },
  {
   "cell_type": "markdown",
   "id": "narrative-migration",
   "metadata": {},
   "source": [
    "The company names and their sectors is given below"
   ]
  },
  {
   "cell_type": "code",
   "execution_count": 3,
   "id": "waiting-moore",
   "metadata": {},
   "outputs": [
    {
     "data": {
      "text/html": [
       "<div>\n",
       "<style scoped>\n",
       "    .dataframe tbody tr th:only-of-type {\n",
       "        vertical-align: middle;\n",
       "    }\n",
       "\n",
       "    .dataframe tbody tr th {\n",
       "        vertical-align: top;\n",
       "    }\n",
       "\n",
       "    .dataframe thead th {\n",
       "        text-align: right;\n",
       "    }\n",
       "</style>\n",
       "<table border=\"1\" class=\"dataframe\">\n",
       "  <thead>\n",
       "    <tr style=\"text-align: right;\">\n",
       "      <th></th>\n",
       "      <th>Ticker</th>\n",
       "      <th>Company Name</th>\n",
       "      <th>Sector</th>\n",
       "    </tr>\n",
       "  </thead>\n",
       "  <tbody>\n",
       "    <tr>\n",
       "      <th>0</th>\n",
       "      <td>AAPL</td>\n",
       "      <td>Apple Inc.</td>\n",
       "      <td>Tech</td>\n",
       "    </tr>\n",
       "    <tr>\n",
       "      <th>1</th>\n",
       "      <td>AMZN</td>\n",
       "      <td>Amazon.com, Inc.</td>\n",
       "      <td>Tech</td>\n",
       "    </tr>\n",
       "    <tr>\n",
       "      <th>2</th>\n",
       "      <td>AXP</td>\n",
       "      <td>American Express Company</td>\n",
       "      <td>Finance</td>\n",
       "    </tr>\n",
       "    <tr>\n",
       "      <th>3</th>\n",
       "      <td>BAC</td>\n",
       "      <td>Bank of America Corporation</td>\n",
       "      <td>Finance</td>\n",
       "    </tr>\n",
       "    <tr>\n",
       "      <th>4</th>\n",
       "      <td>GOOG</td>\n",
       "      <td>Alphabet Inc.</td>\n",
       "      <td>Tech</td>\n",
       "    </tr>\n",
       "    <tr>\n",
       "      <th>5</th>\n",
       "      <td>GS</td>\n",
       "      <td>Goldman Sachs Group, Inc. (The)</td>\n",
       "      <td>Finance</td>\n",
       "    </tr>\n",
       "    <tr>\n",
       "      <th>6</th>\n",
       "      <td>MS</td>\n",
       "      <td>Morgan Stanley</td>\n",
       "      <td>Finance</td>\n",
       "    </tr>\n",
       "    <tr>\n",
       "      <th>7</th>\n",
       "      <td>MSFT</td>\n",
       "      <td>Microsoft Corporation</td>\n",
       "      <td>Tech</td>\n",
       "    </tr>\n",
       "    <tr>\n",
       "      <th>8</th>\n",
       "      <td>Unknown</td>\n",
       "      <td>Unknown</td>\n",
       "      <td>Unknown</td>\n",
       "    </tr>\n",
       "  </tbody>\n",
       "</table>\n",
       "</div>"
      ],
      "text/plain": [
       "    Ticker                     Company Name   Sector\n",
       "0     AAPL                       Apple Inc.     Tech\n",
       "1     AMZN                 Amazon.com, Inc.     Tech\n",
       "2      AXP         American Express Company  Finance\n",
       "3      BAC      Bank of America Corporation  Finance\n",
       "4     GOOG                    Alphabet Inc.     Tech\n",
       "5       GS  Goldman Sachs Group, Inc. (The)  Finance\n",
       "6       MS                   Morgan Stanley  Finance\n",
       "7     MSFT            Microsoft Corporation     Tech\n",
       "8  Unknown                          Unknown  Unknown"
      ]
     },
     "execution_count": 3,
     "metadata": {},
     "output_type": "execute_result"
    }
   ],
   "source": [
    "stocks = stocks.to_numpy()\n",
    "companies = pd.read_csv('companies.csv')\n",
    "\n",
    "companies\n"
   ]
  },
  {
   "cell_type": "markdown",
   "id": "driving-office",
   "metadata": {},
   "source": [
    "## 1) Run PCA on the stocks data:"
   ]
  },
  {
   "cell_type": "markdown",
   "id": "prescribed-rating",
   "metadata": {},
   "source": [
    "Recall that PCA requires each axial mean to be 0. Compute the average of the given stocks and store the result as `stocks_avg`."
   ]
  },
  {
   "cell_type": "code",
   "execution_count": 4,
   "id": "elegant-separation",
   "metadata": {},
   "outputs": [],
   "source": [
    "#grade\n",
    "\n",
    "stocks_avg = np.average(stocks, axis=0)"
   ]
  },
  {
   "cell_type": "markdown",
   "id": "municipal-warner",
   "metadata": {},
   "source": [
    "Shift each of the stocks by stocks_avg so that the shifted dataset has an average equal to 0. This is a necessary step for PCA. Store the result as `stocks_centered`."
   ]
  },
  {
   "cell_type": "code",
   "execution_count": 5,
   "id": "physical-executive",
   "metadata": {},
   "outputs": [],
   "source": [
    "#grade\n",
    "\n",
    "stocks_centered = stocks - stocks_avg"
   ]
  },
  {
   "cell_type": "markdown",
   "id": "absent-multiple",
   "metadata": {},
   "source": [
    "You have finished pre-processing the data and are now prepared to conduct PCA. Compute the SVD of `stocks_centered` representing the shifted stocks data. Store the 1d array of singular values as `S` and the 2d array of right singular vectors (as columns) as `V`.\n",
    "\n",
    "*Hint: Recall that `numpy.linalg.svd` returns the triple `U, S, Vt` where `U` stores $U$, `S` stores $\\Sigma$ (as a 1d numpy array for the diagonal), and `Vt` stores $V^T$ from the SVD decomposition $U\\Sigma V^T$ of the input matrix.*\n",
    "\n",
    "Make sure to compute the reduced form of the SVD (`full_matrices=False`), otherwise the computation will take too long, and the auto-grader will abort."
   ]
  },
  {
   "cell_type": "code",
   "execution_count": 6,
   "id": "proprietary-bundle",
   "metadata": {},
   "outputs": [],
   "source": [
    "#grade\n",
    "U_stock, S_stock, V_stock = la.svd(stocks_centered, full_matrices=False)\n",
    "U = U_stock\n",
    "S = S_stock\n",
    "V = V_stock.T\n"
   ]
  },
  {
   "cell_type": "markdown",
   "id": "foster-closure",
   "metadata": {},
   "source": [
    "## 2) Using the pricipal components to group stocks"
   ]
  },
  {
   "cell_type": "markdown",
   "id": "magnetic-package",
   "metadata": {},
   "source": [
    "Using the SVD decomposition find the first two principal components and call them `pc1` and `pc2`."
   ]
  },
  {
   "cell_type": "markdown",
   "id": "consolidated-foundation",
   "metadata": {},
   "source": [
    "*Hint: Recall that the columns of the matrices V are the principal components.*"
   ]
  },
  {
   "cell_type": "code",
   "execution_count": 7,
   "id": "particular-robinson",
   "metadata": {},
   "outputs": [],
   "source": [
    "#grade\n",
    "\n",
    "pc1 = V[:,0]\n",
    "pc2 = V[:,1]\n"
   ]
  },
  {
   "cell_type": "markdown",
   "id": "atlantic-hampton",
   "metadata": {},
   "source": [
    "Both `pc1` and `pc2` are 1d arrays with length 9. Each entry corresponds to one company's stock and is called the exposure of that stock. Stocks with similar exposures over both principal components have the same trends."
   ]
  },
  {
   "cell_type": "markdown",
   "id": "steady-mother",
   "metadata": {},
   "source": [
    "Plot `pc1` vs `pc2` and notice if there are any clustering of stocks based on sector."
   ]
  },
  {
   "cell_type": "code",
   "execution_count": 8,
   "id": "collected-philip",
   "metadata": {},
   "outputs": [
    {
     "data": {
      "image/png": "[encoded data removed]",
      "text/plain": [
       "<Figure size 1200x600 with 1 Axes>"
      ]
     },
     "metadata": {
      "needs_background": "light"
     },
     "output_type": "display_data"
    }
   ],
   "source": [
    "# Plot principal components\n",
    "fig, ax = plt.subplots(figsize=(12, 6), dpi=100)\n",
    "for i, (x, y) in enumerate(zip(pc1,pc2)):\n",
    "    ax.scatter(x, y, marker='o', s=100)\n",
    "    ax.annotate(symbols[i], xy=(x, y), xytext=(x+0.005, y+0.02),\n",
    "                arrowprops=dict(facecolor='black', shrink=0.05, width=1, headwidth=3, headlength=4, connectionstyle='arc3,rad=0.1'))\n",
    "\n",
    "ax.set_xlabel('Principal Component 1')\n",
    "ax.set_ylabel('Principal Component 2')\n",
    "ax.set_title('Principal Components')\n",
    "plt.show()"
   ]
  },
  {
   "cell_type": "markdown",
   "id": "vocal-thanksgiving",
   "metadata": {},
   "source": [
    "What's your guess for the sector of the unknown company?"
   ]
  }
 ],
 "metadata": {
  "kernelspec": {
   "display_name": "Python 3",
   "language": "python",
   "name": "python3"
  },
  "language_info": {
   "codemirror_mode": {
    "name": "ipython",
    "version": 3
   },
   "file_extension": ".py",
   "mimetype": "text/x-python",
   "name": "python",
   "nbconvert_exporter": "python",
   "pygments_lexer": "ipython3",
   "version": "3.8.6"
  }
 },
 "nbformat": 4,
 "nbformat_minor": 5
}
