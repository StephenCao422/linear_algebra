{
 "cells": [
  {
   "cell_type": "code",
   "execution_count": 1,
   "metadata": {},
   "outputs": [
    {
     "name": "stderr",
     "output_type": "stream",
     "text": [
      "Matplotlib created a temporary config/cache directory at /tmp/matplotlib-ebwebz8n because the default path (/tmp/cache/matplotlib) is not a writable directory; it is highly recommended to set the MPLCONFIGDIR environment variable to a writable directory, in particular to speed up the import of Matplotlib and to better support multiprocessing.\n"
     ]
    }
   ],
   "source": [
    "import numpy as np\n",
    "import numpy.linalg as la\n",
    "import matplotlib.pyplot as plt\n",
    "%matplotlib inline"
   ]
  },
  {
   "cell_type": "markdown",
   "metadata": {},
   "source": [
    "# Lesson 4: modeling a slinky"
   ]
  },
  {
   "cell_type": "markdown",
   "metadata": {},
   "source": [
    "We will continue solving a spring system (to model a slinky) using the discretization below:"
   ]
  },
  {
   "cell_type": "markdown",
   "metadata": {},
   "source": [
    "<img src=\"slinky_held2.png\" width=250>"
   ]
  },
  {
   "cell_type": "markdown",
   "metadata": {},
   "source": [
    "where in the general case, $f_i$ is the applied force and $u_i$ is the corresponding displacement (movement) at mass $m_i$. \n",
    "\n",
    "In Lesson 4, you learned that you can obtain the displacement $u_i$ of each mass by solving\n",
    "\n",
    "$${\\bf K}{\\bf u} = {\\bf f}$$\n",
    "\n",
    "where ${\\bf K}$ is the stiffness matrix, ${\\bf u}$ the displacement vector and ${\\bf f}$ the force vector."
   ]
  },
  {
   "cell_type": "markdown",
   "metadata": {},
   "source": [
    "We will import the functions to construct the stiffness matrix `get_stiffness` and force vector due to gravitational forces `get_force` (you implemented these functions in Lesson 4)."
   ]
  },
  {
   "cell_type": "code",
   "execution_count": 2,
   "metadata": {},
   "outputs": [],
   "source": [
    "from assemble_functions import get_stiffness\n",
    "from assemble_functions import get_force\n",
    "\n",
    "N = 30\n",
    "Ls  = 10   # (cm)      Length of the slinky\n",
    "Ks = 700  # (N/cm)     Stiffness\n",
    "M  = 170  # (grams)    Total mass\n",
    "\n",
    "m = M/(N+1) # each individual mass\n",
    "k = Ks*(N)  # each individiual spring stiffness\n",
    "l = Ls/(N)  # each individual spring length\n",
    "\n",
    "g = 9.81*10**2 # 386 #(in/s^2)\n",
    "\n",
    "K = get_stiffness(k*np.ones(N))\n",
    "f = get_force(m,g,N)"
   ]
  },
  {
   "cell_type": "markdown",
   "metadata": {},
   "source": [
    "## 1) Solving system of equations for multiple right-hand sides"
   ]
  },
  {
   "cell_type": "markdown",
   "metadata": {},
   "source": [
    "The function call `u = la.solve(K,f)` solves the system of equations\n",
    "    \n",
    "${\\bf K}{\\bf u} = {\\bf f} \\leftrightarrow {\\bf u} = {\\bf K}^{-1}{\\bf f} . $\n",
    "\n",
    "So you could think of the function `la.solve` as performing a matrix inverse every time it is called. However, more efficient methods are available! For example, you can instead compute a LU decomposition, then enact a set of triangular substitutions for solving (solving with triangular matrices is computationally easier):\n",
    "\n",
    "$ {\\bf K} = {\\bf PLU} \\rightarrow {\\bf PLU u} = {\\bf f} , $\n",
    "\n",
    "$ {\\bf L y} = {\\bf P}^T{\\bf f} \\rightarrow$ solve for ${\\bf y}, $\n",
    "\n",
    "$ {\\bf U u} = {\\bf y} \\rightarrow$ solve for ${\\bf u} . $"
   ]
  },
  {
   "cell_type": "markdown",
   "metadata": {},
   "source": [
    "#### Use LU decomposition to solve a single linear system.\n",
    "Write the function `my_LU_solve_1` that uses LU decomposition with permutation and triangular substitutions to solve the linear system of equations, as described above and using the SciPy functions described below.\n",
    "The function should return the value of the displacement at the free end of the slinky.\n",
    "\n",
    "Use the LU decomposition function [`scipy.linalg.lu`](https://docs.scipy.org/doc/scipy/reference/generated/scipy.linalg.lu.html) and the function to solve a linear system with a triangular matrix [`scipy.linalg.solve_triangular`](https://docs.scipy.org/doc/scipy/reference/generated/scipy.linalg.solve_triangular.html). For the latter, pay attention to the `lower` argument so that forward or backward substitution is correctly specified.\n",
    "\n",
    "The function should have the following signature:\n",
    "\n",
    "```python\n",
    "def my_LU_solve_1(K,f):\n",
    "    # K: 2d numpy array with the stiffness matrix\n",
    "    # f: 1d numpy array with the load force\n",
    "    # compute displacement at the free end\n",
    "    return # return displacement at the free end\n",
    "```   "
   ]
  },
  {
   "cell_type": "code",
   "execution_count": 3,
   "metadata": {},
   "outputs": [],
   "source": [
    "import scipy.linalg as sla"
   ]
  },
  {
   "cell_type": "code",
   "execution_count": 4,
   "metadata": {},
   "outputs": [],
   "source": [
    "#grade (do not delete this line)\n",
    "def my_LU_solve_1(K,f):\n",
    "    # K: 2d numpy array with the stiffness matrix\n",
    "    # f: 1d numpy array with the load force\n",
    "    # compute displacement at the free end\n",
    "    P, L, U = sla.lu(K)\n",
    "    y = sla.solve_triangular(L, P.transpose() @ f, lower=True)\n",
    "    u = sla.solve_triangular(U, y, lower=False)\n",
    "    return u[-1] # return displacement at the free end "
   ]
  },
  {
   "cell_type": "markdown",
   "metadata": {},
   "source": [
    "Use your function `my_LU_solve_1` to get the displacement of the free end of the slinky given the above configuration. Note that we will test your function using different input values."
   ]
  },
  {
   "cell_type": "code",
   "execution_count": 5,
   "metadata": {},
   "outputs": [
    {
     "data": {
      "text/plain": [
       "119.12142857142788"
      ]
     },
     "execution_count": 5,
     "metadata": {},
     "output_type": "execute_result"
    }
   ],
   "source": [
    "my_LU_solve_1(K,f)"
   ]
  },
  {
   "cell_type": "markdown",
   "metadata": {},
   "source": [
    "You should get the same value using `la.solve`. Try it out!"
   ]
  },
  {
   "cell_type": "code",
   "execution_count": 6,
   "metadata": {},
   "outputs": [
    {
     "data": {
      "text/plain": [
       "119.12142857142788"
      ]
     },
     "execution_count": 6,
     "metadata": {},
     "output_type": "execute_result"
    }
   ],
   "source": [
    "la.solve(K, f)[-1]"
   ]
  },
  {
   "cell_type": "markdown",
   "metadata": {},
   "source": [
    "However, we still didn't address the issue above regarding the efficiency. But we are getting close! \n",
    "\n",
    "You are now given a 2d numpy array `fmany` with multiple right hand-sides. Each force vector `f` is now given as a column of `fmany`. For each force vector, you will have a different displacement at the free end.\n"
   ]
  },
  {
   "cell_type": "code",
   "execution_count": 7,
   "metadata": {
    "scrolled": true
   },
   "outputs": [
    {
     "data": {
      "text/plain": [
       "(30, 20)"
      ]
     },
     "execution_count": 7,
     "metadata": {},
     "output_type": "execute_result"
    }
   ],
   "source": [
    "p = 20\n",
    "fmany = np.zeros((N,p))\n",
    "for i in range(p):\n",
    "    fmany[:,i] = get_force(m,g,N) + np.random.choice([0,1],N)*g\n",
    "fmany.shape"
   ]
  },
  {
   "cell_type": "markdown",
   "metadata": {},
   "source": [
    "#### Use LU decomposition to solve many related linear systems.\n",
    "Write the function `my_LU_solve_2` that uses LU decomposition with permutation and triangular substitutions to solve the linear system of equations, this time using multiple right-hand sides.\n",
    "The function should return a 1d NumPy array containing the value of displacement at the free end of the slinky for each given right-hand side.\n",
    " \n",
    "**Think carefully about your implementation, and how you can make it more efficient. Use the fact that there is a single stiffness matrix K in spite of many force vectors. **\n",
    "\n",
    "The function should have the following signature:\n",
    "\n",
    "```python\n",
    "def my_LU_solve_2(K, fmany):\n",
    "    # K: 2d numpy array with the stiffness matrix\n",
    "    # fmany: 2d numpy array with the multiple force vectors as columns\n",
    "    # compute displacement at the free end for each force vector\n",
    "    # store these displacements as a 1d numpy array\n",
    "    return # return array of displacements at the free ends\n",
    "```"
   ]
  },
  {
   "cell_type": "code",
   "execution_count": 8,
   "metadata": {},
   "outputs": [],
   "source": [
    "#grade (do not delete this line)\n",
    "def my_LU_solve_2(K, fmany):\n",
    "    # K: 2d numpy array with the stiffness matrix\n",
    "    # fmany: 2d numpy array with the multiple force vectors as columns\n",
    "    # compute displacement at the free end for each force vector\n",
    "    res = []\n",
    "    P, L, U = sla.lu(K)\n",
    "    for f in fmany.T:\n",
    "        y = sla.solve_triangular(L, P.transpose() @ f, lower=True)\n",
    "        u = sla.solve_triangular(U, y, lower=False)\n",
    "        res.append(u[-1])\n",
    "    # store these displacements as a 1d numpy array\n",
    "    print(u.shape)\n",
    "    return np.asarray(res) ## return array of displacements at the free ends\n",
    "# print(K.shape)\n",
    "# print(fmany.shape)\n"
   ]
  },
  {
   "cell_type": "markdown",
   "metadata": {},
   "source": [
    "You can check your results using the provided `K` and `fmany` variables (we will be testing your function above using different input variables)."
   ]
  },
  {
   "cell_type": "code",
   "execution_count": 9,
   "metadata": {},
   "outputs": [
    {
     "name": "stdout",
     "output_type": "stream",
     "text": [
      "(30,)\n"
     ]
    },
    {
     "data": {
      "text/plain": [
       "array([129.63214286, 126.549     , 127.95042857, 133.55614286,\n",
       "       124.21328571, 130.42628571, 128.74457143, 132.108     ,\n",
       "       128.41757143, 128.32414286, 125.568     , 126.40885714,\n",
       "       128.09057143, 130.51971429, 133.46271429, 132.80871429,\n",
       "       128.511     , 124.11985714, 132.29485714, 133.27585714])"
      ]
     },
     "execution_count": 9,
     "metadata": {},
     "output_type": "execute_result"
    }
   ],
   "source": [
    "my_LU_solve_2(K,fmany)"
   ]
  },
  {
   "cell_type": "markdown",
   "metadata": {},
   "source": [
    "Let us compare your efficient implementation with a naive implementation of `la.solve` . We will use your previous work to define the following functions:"
   ]
  },
  {
   "cell_type": "code",
   "execution_count": 10,
   "metadata": {},
   "outputs": [],
   "source": [
    "def simulation_LU(m,g,k,N,p):\n",
    "    # force array\n",
    "    fmany = np.zeros((N,p))\n",
    "    for i in range(p):\n",
    "        fmany[:,i] = get_force(m,g,N) + np.random.choice([0,1],N)*g\n",
    "    # stiffness matrix\n",
    "    K = get_stiffness(k*np.ones(N))\n",
    "    u = my_LU_solve_2(K,fmany)\n",
    "    \n",
    "def simulation_naive_solve(m,g,k,N,p):\n",
    "    # force array\n",
    "    fmany = np.zeros((N,p))\n",
    "    K = get_stiffness(k*np.ones(N))\n",
    "    for i in range(p):\n",
    "        u = la.solve(K,get_force(m,g,N) + np.random.choice([0,1],N)*g)"
   ]
  },
  {
   "cell_type": "markdown",
   "metadata": {},
   "source": [
    "We will run both functions for increasing values of `N` (number of springs) and store the time it takes to perform each computation."
   ]
  },
  {
   "cell_type": "code",
   "execution_count": 11,
   "metadata": {},
   "outputs": [],
   "source": [
    "from time import process_time"
   ]
  },
  {
   "cell_type": "code",
   "execution_count": 12,
   "metadata": {},
   "outputs": [
    {
     "name": "stdout",
     "output_type": "stream",
     "text": [
      ":: Solving system of 100 elements ::\n",
      "(100,)\n",
      "Your LU solve    0.013881774000000124 seconds\n",
      "Naïve Solve  0.017938845999999842 seconds\n",
      "\n",
      ":: Solving system of 1000 elements ::\n",
      "(1000,)\n",
      "Your LU solve    0.3703450989999997 seconds\n",
      "Naïve Solve  1.8637839360000004 seconds\n",
      "\n",
      ":: Solving system of 2000 elements ::\n",
      "(2000,)\n",
      "Your LU solve    1.1994201420000001 seconds\n",
      "Naïve Solve  7.336883147000001 seconds\n",
      "\n",
      ":: Solving system of 3000 elements ::\n",
      "(3000,)\n",
      "Your LU solve    2.6696470649999995 seconds\n",
      "Naïve Solve  20.580801668000003 seconds\n",
      "\n",
      ":: Solving system of 5000 elements ::\n",
      "(5000,)\n",
      "Your LU solve    7.6093323569999995 seconds\n",
      "Naïve Solve  75.367152771 seconds\n",
      "\n"
     ]
    }
   ],
   "source": [
    "n_values = np.array([100,1000,2000,3000,5000])\n",
    "\n",
    "times_lu = []\n",
    "times_solve = []\n",
    "\n",
    "for n in n_values:\n",
    "    print(f\":: Solving system of {n} elements ::\")\n",
    "       \n",
    "    k  = 1 \n",
    "    m = 1\n",
    "    g = 10\n",
    "   \n",
    "    t = process_time()  # store the time\n",
    "    simulation_LU(m,g,k,n,p)\n",
    "    t = process_time()  -  t# store the time\n",
    "    times_lu.append(t)\n",
    "    \n",
    "    print(f\"Your LU solve    {t} seconds\")\n",
    "    \n",
    "    t = process_time()  # store the time\n",
    "    simulation_naive_solve(m,g,k,n,p)\n",
    "    t = process_time()  -  t# store the time\n",
    "    times_solve.append(t)\n",
    "    \n",
    "    print(f\"Naïve Solve  {t} seconds\")\n",
    "    print()"
   ]
  },
  {
   "cell_type": "code",
   "execution_count": 13,
   "metadata": {},
   "outputs": [
    {
     "data": {
      "text/plain": [
       "<matplotlib.legend.Legend at 0x7fe3b18ccbe0>"
      ]
     },
     "execution_count": 13,
     "metadata": {},
     "output_type": "execute_result"
    },
    {
     "data": {
      "image/png": "[encoded data removed]",
      "text/plain": [
       "<Figure size 432x288 with 1 Axes>"
      ]
     },
     "metadata": {
      "needs_background": "light"
     },
     "output_type": "display_data"
    }
   ],
   "source": [
    "plt.plot(n_values, times_lu,label = 'LU')\n",
    "plt.plot(n_values, times_solve, label = 'naive solve')\n",
    "plt.xlabel('n')\n",
    "plt.ylabel('time')\n",
    "plt.grid()\n",
    "plt.legend()"
   ]
  },
  {
   "cell_type": "markdown",
   "metadata": {},
   "source": [
    "What do you think of these results? Can you explain the difference between both implementations? \n"
   ]
  },
  {
   "cell_type": "markdown",
   "metadata": {},
   "source": [
    "## 2) Changing the stiffness"
   ]
  },
  {
   "cell_type": "markdown",
   "metadata": {},
   "source": [
    "We could combine two slinkys made of different materials and/or different geometries; that is, we \"glue\" one to the end of the other. Assume we are connecting two slinkys of same length, and we will discretize each one of them with the same number of springs.\n",
    "\n",
    "Complete the code snippet below, to repeat the analysis for a mass-spring system with non-uniform stiffness values. We provide the following input variables:"
   ]
  },
  {
   "cell_type": "code",
   "execution_count": 14,
   "metadata": {},
   "outputs": [],
   "source": [
    "n = 30       # number of springs for each slinky\n",
    "N = 2*n      # Total number of springs\n",
    "Ls = 20      # (cm)       Total Length of the slinky\n",
    "Ks1 = 700    # (N/cm)     Stiffness for the first half of the slinky\n",
    "Ks2 = 200    # (N/cm)     Stiffness for the second half of the slinky\n",
    "M1  = 150    # (grams)    Mass for the first half of the slinky\n",
    "M2  = 70     # (grams)    Mass for the second half of the slinky\n",
    "\n",
    "k1 = Ks1*n   # each individiual spring stiffness for the first half of the slinky\n",
    "k2 = Ks2*n   # each individiual spring stiffness for the second half of the slinky\n",
    "\n",
    "l = Ls/N     # each individual spring length\n",
    "\n",
    "g = 9.81*10**2 # (m/s^2)  Gravitational constant\n",
    "\n",
    "#force vector due to gravity\n",
    "fmix = np.append( get_force(M1/(n+1), g, n), get_force(M2/(n+1), g, n) )"
   ]
  },
  {
   "cell_type": "markdown",
   "metadata": {},
   "source": [
    "Determine the stiffness matrix for this problem, using the variables above, and the provided function `get_stiffness`. Store the stiffness matrix in the variable `Kmix`."
   ]
  },
  {
   "cell_type": "code",
   "execution_count": 19,
   "metadata": {},
   "outputs": [
    {
     "name": "stdout",
     "output_type": "stream",
     "text": [
      "[[ 9493.5483871  -4746.77419355     0.         ...     0.\n",
      "      0.             0.        ]\n",
      " [-4746.77419355  9493.5483871  -4746.77419355 ...     0.\n",
      "      0.             0.        ]\n",
      " [    0.         -4746.77419355  9493.5483871  ...     0.\n",
      "      0.             0.        ]\n",
      " ...\n",
      " [    0.             0.             0.         ...  4430.32258065\n",
      "  -2215.16129032     0.        ]\n",
      " [    0.             0.             0.         ... -2215.16129032\n",
      "   4430.32258065 -2215.16129032]\n",
      " [    0.             0.             0.         ...     0.\n",
      "  -2215.16129032  2215.16129032]]\n"
     ]
    }
   ],
   "source": [
    "#grade (do not delete this line)\n",
    "Kmix = get_stiffness(np.append(k1*np.ones(n), k2*np.ones(n)))"
   ]
  },
  {
   "cell_type": "markdown",
   "metadata": {},
   "source": [
    "Once you have the stiffness matrix, you can solve your spring system:"
   ]
  },
  {
   "cell_type": "code",
   "execution_count": 20,
   "metadata": {},
   "outputs": [],
   "source": [
    "u = la.solve(Kmix,fmix)"
   ]
  },
  {
   "cell_type": "markdown",
   "metadata": {},
   "source": [
    "And we can use the helper function to plot:"
   ]
  },
  {
   "cell_type": "code",
   "execution_count": 21,
   "metadata": {},
   "outputs": [],
   "source": [
    "from assemble_functions import draw_slinky"
   ]
  },
  {
   "cell_type": "code",
   "execution_count": 22,
   "metadata": {},
   "outputs": [
    {
     "data": {
      "image/png": "[encoded data removed]",
      "text/plain": [
       "<Figure size 432x288 with 1 Axes>"
      ]
     },
     "metadata": {
      "needs_background": "light"
     },
     "output_type": "display_data"
    }
   ],
   "source": [
    "coord = np.array([l*i for i in range(N+1)])\n",
    "utotal = np.append(0,u)\n",
    "def_coord = coord + utotal\n",
    "\n",
    "plt.figure()\n",
    "plt.axis('equal')\n",
    "draw_slinky(-5, coord, 2)\n",
    "draw_slinky(5, def_coord, 2)"
   ]
  },
  {
   "cell_type": "code",
   "execution_count": null,
   "metadata": {},
   "outputs": [],
   "source": []
  },
  {
   "cell_type": "code",
   "execution_count": null,
   "metadata": {},
   "outputs": [],
   "source": []
  }
 ],
 "metadata": {
  "kernelspec": {
   "display_name": "Python 3",
   "language": "python",
   "name": "python3"
  },
  "language_info": {
   "codemirror_mode": {
    "name": "ipython",
    "version": 3
   },
   "file_extension": ".py",
   "mimetype": "text/x-python",
   "name": "python",
   "nbconvert_exporter": "python",
   "pygments_lexer": "ipython3",
   "version": "3.8.6"
  }
 },
 "nbformat": 4,
 "nbformat_minor": 4
}
