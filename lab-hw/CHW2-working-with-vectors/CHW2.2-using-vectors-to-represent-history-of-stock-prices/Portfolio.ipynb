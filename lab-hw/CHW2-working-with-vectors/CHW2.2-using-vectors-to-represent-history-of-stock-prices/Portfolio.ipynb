{
 "cells": [
  {
   "cell_type": "code",
   "execution_count": 3,
   "metadata": {},
   "outputs": [],
   "source": [
    "import pandas as pd\n",
    "import matplotlib.pyplot as plt\n",
    "import random\n",
    "import numpy as np"
   ]
  },
  {
   "cell_type": "markdown",
   "metadata": {},
   "source": [
    "## Stock investments"
   ]
  },
  {
   "cell_type": "markdown",
   "metadata": {},
   "source": [
    "We will first import some data from stock market history prices over the last two years (\"close\" daily values). You will later learn how to use pandas, for now we will simplify the data, giving you with just the\n",
    "numpy arrays needed to complete this question."
   ]
  },
  {
   "cell_type": "code",
   "execution_count": 4,
   "metadata": {},
   "outputs": [],
   "source": [
    "df_stocks = pd.read_csv('example_stock_close_prices.csv')"
   ]
  },
  {
   "cell_type": "markdown",
   "metadata": {},
   "source": [
    "Consider the two time series of the Intel and Johnson & Johnson daily stock prices, given in the arrays (vectors) `p1` and `p2` respectively. The dates are given in the array `dates`."
   ]
  },
  {
   "cell_type": "code",
   "execution_count": 5,
   "metadata": {},
   "outputs": [],
   "source": [
    "p1 = df_stocks['Intel'].values\n",
    "p2 = df_stocks['Johnson & Johnson'].values\n",
    "dates = df_stocks['date'].values"
   ]
  },
  {
   "cell_type": "code",
   "execution_count": 6,
   "metadata": {},
   "outputs": [
    {
     "name": "stdout",
     "output_type": "stream",
     "text": [
      "Total number of days =  507\n"
     ]
    }
   ],
   "source": [
    "T = len(dates)\n",
    "print('Total number of days = ', T)"
   ]
  },
  {
   "cell_type": "markdown",
   "metadata": {},
   "source": [
    "This number makes sense! On average, a year will have about 252 trading days."
   ]
  },
  {
   "cell_type": "markdown",
   "metadata": {},
   "source": [
    "Note that for each time increment `t` where `t=0,...,T-1`, we can get the corresponding stock prices for the Intel and Johnson & Johnson stocks:"
   ]
  },
  {
   "cell_type": "code",
   "execution_count": 7,
   "metadata": {},
   "outputs": [
    {
     "data": {
      "text/plain": [
       "60.55"
      ]
     },
     "execution_count": 7,
     "metadata": {},
     "output_type": "execute_result"
    }
   ],
   "source": [
    "# for example, at t = 0\n",
    "t = 0\n",
    "p1[t]"
   ]
  },
  {
   "cell_type": "code",
   "execution_count": 8,
   "metadata": {},
   "outputs": [
    {
     "data": {
      "text/plain": [
       "148.94"
      ]
     },
     "execution_count": 8,
     "metadata": {},
     "output_type": "execute_result"
    }
   ],
   "source": [
    "# for example, at t = 20\n",
    "t = 20\n",
    "p2[t]"
   ]
  },
  {
   "cell_type": "markdown",
   "metadata": {},
   "source": [
    "Recall that Python uses zero-indexing, so you will get an error if you try to evaluate the cell below:"
   ]
  },
  {
   "cell_type": "code",
   "execution_count": 9,
   "metadata": {},
   "outputs": [
    {
     "ename": "IndexError",
     "evalue": "index 507 is out of bounds for axis 0 with size 507",
     "output_type": "error",
     "traceback": [
      "\u001b[0;31m---------------------------------------------------------------------------\u001b[0m",
      "\u001b[0;31mIndexError\u001b[0m                                Traceback (most recent call last)",
      "\u001b[0;32m<ipython-input-9-fd75ad73c9a0>\u001b[0m in \u001b[0;36m<module>\u001b[0;34m\u001b[0m\n\u001b[0;32m----> 1\u001b[0;31m \u001b[0mdates\u001b[0m\u001b[0;34m[\u001b[0m\u001b[0mT\u001b[0m\u001b[0;34m]\u001b[0m\u001b[0;34m\u001b[0m\u001b[0;34m\u001b[0m\u001b[0m\n\u001b[0m",
      "\u001b[0;31mIndexError\u001b[0m: index 507 is out of bounds for axis 0 with size 507"
     ]
    }
   ],
   "source": [
    "dates[T]"
   ]
  },
  {
   "cell_type": "markdown",
   "metadata": {},
   "source": [
    "Your data has stock prices in the following range:"
   ]
  },
  {
   "cell_type": "code",
   "execution_count": 10,
   "metadata": {},
   "outputs": [
    {
     "data": {
      "text/plain": [
       "'1/21/20'"
      ]
     },
     "execution_count": 10,
     "metadata": {},
     "output_type": "execute_result"
    }
   ],
   "source": [
    "dates[0]"
   ]
  },
  {
   "cell_type": "code",
   "execution_count": 11,
   "metadata": {},
   "outputs": [
    {
     "data": {
      "text/plain": [
       "'1/21/22'"
      ]
     },
     "execution_count": 11,
     "metadata": {},
     "output_type": "execute_result"
    }
   ],
   "source": [
    "dates[-1]"
   ]
  },
  {
   "cell_type": "markdown",
   "metadata": {},
   "source": [
    "Take a look at the plot of the daily stock prices for these two companies:"
   ]
  },
  {
   "cell_type": "code",
   "execution_count": 12,
   "metadata": {},
   "outputs": [
    {
     "data": {
      "text/plain": [
       "Text(0.5, 1.0, 'Stock prices')"
      ]
     },
     "execution_count": 12,
     "metadata": {},
     "output_type": "execute_result"
    },
    {
     "data": {
      "image/png": "[encoded data removed]",
      "text/plain": [
       "<Figure size 432x288 with 1 Axes>"
      ]
     },
     "metadata": {
      "needs_background": "light"
     },
     "output_type": "display_data"
    }
   ],
   "source": [
    "fig, ax = plt.subplots()\n",
    "ax.plot(dates,p1,label='Intel')\n",
    "ax.plot(dates,p2,label='Johnson & Johnson')\n",
    "plt.legend(bbox_to_anchor=(1.05, 1))\n",
    "ax.xaxis.set_major_locator(plt.MaxNLocator(6));\n",
    "plt.xticks(rotation=45);\n",
    "plt.title('Stock prices')"
   ]
  },
  {
   "cell_type": "markdown",
   "metadata": {},
   "source": [
    "#### Question 1:\n",
    "\n",
    "Suppose you could travel back in time to day zero `t = 0` and invest \\$1000 in these two companies. \n",
    "\n",
    "Your stock portfolio can be defined as:\n",
    "\n",
    "```\n",
    "X1 p1[0] + X2 p2[0] = 1000\n",
    "```\n",
    "\n",
    "where `X1` and `X2` correspond to the number of shares of each company.\n",
    "\n",
    "Find `X1` and `X2` such that the value of your investment at time `T-1` is $2000.\n",
    "\n",
    "**Note:** `X1` and `X2` can be negative. Negative `X1` means you are shortselling the Intel stocks, and negative `X2` means you are shortstelling the Johnson & Johnson stocks.\n",
    "\n"
   ]
  },
  {
   "cell_type": "code",
   "execution_count": 20,
   "metadata": {},
   "outputs": [
    {
     "name": "stdout",
     "output_type": "stream",
     "text": [
      "[-60.35123452  31.18019194]\n",
      "X1  -60.35123452294688\n",
      "X2  31.18019193652062\n"
     ]
    }
   ],
   "source": [
    "#grade\n",
    "\n",
    "# Perform some calculation here \n",
    "# See: https://numpy.org/doc/stable/reference/generated/numpy.linalg.solve.html\n",
    "a = np.array([[p1[0], p2[0]], [p1[T-1], p2[T-1]]])\n",
    "b = np.array([1000, 2000])\n",
    "x = np.linalg.solve(a, b)\n",
    "print(x)\n",
    "X1 = x[0]\n",
    "X2 = x[1]\n",
    "print(\"X1 \", X1)\n",
    "print(\"X2 \", X2)\n"
   ]
  },
  {
   "cell_type": "markdown",
   "metadata": {},
   "source": [
    "#### Question 2:\n",
    "\n",
    "Plot the value of your investment over this time period, i.e. from `t = 0,1,...,T-1` (we are not grading this step)."
   ]
  },
  {
   "cell_type": "code",
   "execution_count": null,
   "metadata": {},
   "outputs": [],
   "source": [
    "\n"
   ]
  },
  {
   "cell_type": "markdown",
   "metadata": {},
   "source": [
    "#### Question 3:\n",
    "\n",
    "What is the value of your investment at the end of the first quarter of year 1? Assume that that a trading year has 252 days, so the end of the first quarter will happen at `t = 62`. Assign your result to the variable `invt62`."
   ]
  },
  {
   "cell_type": "code",
   "execution_count": 19,
   "metadata": {},
   "outputs": [
    {
     "name": "stdout",
     "output_type": "stream",
     "text": [
      "2179.0683204949355\n"
     ]
    }
   ],
   "source": [
    "#grade\n",
    "invt62 = X1 * p1[62] + X2 * p2[62]\n",
    "print(invt62)"
   ]
  },
  {
   "cell_type": "markdown",
   "metadata": {},
   "source": [
    "#### Question 4: \n",
    "    \n",
    "Suppose you started your investment with 10 shares from both Intel and Johnson & Johnson (also from day `t = 0`).\n",
    "\n",
    "- What is the value of your investment on day `t = 0`? Define the variable `invt0`.\n",
    "- What is the value of your investment on day `t = T-1`? Define the variable `invtT`.\n"
   ]
  },
  {
   "cell_type": "code",
   "execution_count": 21,
   "metadata": {},
   "outputs": [],
   "source": [
    "#grade\n",
    "invt0 = 10 * (p1[0] + p2[0])\n",
    "invtT = 10 * (p1[T-1] + p2[T-1])"
   ]
  },
  {
   "cell_type": "markdown",
   "metadata": {},
   "source": [
    "Plot the value of your new investment over time."
   ]
  },
  {
   "cell_type": "code",
   "execution_count": 4,
   "metadata": {},
   "outputs": [],
   "source": []
  }
 ],
 "metadata": {
  "kernelspec": {
   "display_name": "Python 3",
   "language": "python",
   "name": "python3"
  },
  "language_info": {
   "codemirror_mode": {
    "name": "ipython",
    "version": 3
   },
   "file_extension": ".py",
   "mimetype": "text/x-python",
   "name": "python",
   "nbconvert_exporter": "python",
   "pygments_lexer": "ipython3",
   "version": "3.8.6"
  }
 },
 "nbformat": 4,
 "nbformat_minor": 4
}
