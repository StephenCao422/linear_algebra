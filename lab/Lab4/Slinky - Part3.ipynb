{
 "cells": [
  {
   "cell_type": "code",
   "execution_count": 1,
   "metadata": {},
   "outputs": [
    {
     "name": "stderr",
     "output_type": "stream",
     "text": [
      "Matplotlib created a temporary config/cache directory at /tmp/matplotlib-t142u98u because the default path (/tmp/cache/matplotlib) is not a writable directory; it is highly recommended to set the MPLCONFIGDIR environment variable to a writable directory, in particular to speed up the import of Matplotlib and to better support multiprocessing.\n"
     ]
    }
   ],
   "source": [
    "import numpy as np\n",
    "import numpy.linalg as la\n",
    "import matplotlib.pyplot as plt\n",
    "from helper_functions import draw_slinky\n",
    "%matplotlib inline"
   ]
  },
  {
   "cell_type": "markdown",
   "metadata": {},
   "source": [
    "### Solve this mass-spring system for a different load"
   ]
  },
  {
   "cell_type": "markdown",
   "metadata": {},
   "source": [
    "Let's see what happens when we modify the force vector. For now, we will use $N = 10$:"
   ]
  },
  {
   "cell_type": "code",
   "execution_count": 2,
   "metadata": {},
   "outputs": [],
   "source": [
    "N = 10\n",
    "Ls  = 10   # (cm)      Length of the slinky\n",
    "Ks = 700  # (N/cm)     Stiffness\n",
    "M  = 170  # (grams)    Total mass\n",
    "m = M/(N+1) # each individual mass\n",
    "k = Ks*(N)  # each individiual spring stiffness\n",
    "l = Ls/(N)   # each individual spring length\n",
    "\n",
    "g = 9.81*10**2 # 386 #(in/s^2)\n",
    "\n",
    "# Obtain the stiffness matrix\n",
    "K = np.load('stiffness.npy')\n",
    "# Get coordinate positions for the masses\n",
    "coord = [l*i for i in range(N+1)]\n",
    "# Obtain force vector f\n",
    "f_given = np.load('force_vector.npy')"
   ]
  },
  {
   "cell_type": "markdown",
   "metadata": {},
   "source": [
    "We add masses to some positions of the slinky:"
   ]
  },
  {
   "cell_type": "markdown",
   "metadata": {},
   "source": [
    "<img src=\"add_mass.png\" width=200>"
   ]
  },
  {
   "cell_type": "markdown",
   "metadata": {},
   "source": [
    "Create a numpy array with shape `(N,)` that contains the additional masses and store it as `delta_force`. For example, consider an array that has one extra mass of value $2g$ in the middle of the slinky."
   ]
  },
  {
   "cell_type": "code",
   "execution_count": 3,
   "metadata": {},
   "outputs": [
    {
     "data": {
      "text/plain": [
       "array([   0.,    0.,    0.,    0.,    0., 1962.,    0.,    0.,    0.,\n",
       "          0.])"
      ]
     },
     "execution_count": 3,
     "metadata": {},
     "output_type": "execute_result"
    }
   ],
   "source": [
    "delta_force = np.zeros(N)\n",
    "delta_force[int(N/2)] = 2*g\n",
    "delta_force"
   ]
  },
  {
   "cell_type": "markdown",
   "metadata": {},
   "source": [
    "How can we solve this system for the new force vector?\n",
    "\n",
    "**Try this!**\n",
    "\n",
    "\n",
    "Complete the code snippet below using the same steps that you used to create the function `solve_slinky`:\n",
    "\n",
    "- re-define the force vector `f` using `f_given` and `delta_force`\n",
    "- you already defined the stiffness matrix above\n",
    "- solve for the displacement `u`\n",
    "- get the displacement `utotal`"
   ]
  },
  {
   "cell_type": "code",
   "execution_count": 4,
   "metadata": {},
   "outputs": [],
   "source": [
    "# define the variables here:\n"
   ]
  },
  {
   "cell_type": "markdown",
   "metadata": {},
   "source": [
    "Plot the `coord` and `def_coord` and print out the value of the displacement at the end of the slinky:"
   ]
  },
  {
   "cell_type": "code",
   "execution_count": 5,
   "metadata": {},
   "outputs": [
    {
     "ename": "NameError",
     "evalue": "name 'utotal' is not defined",
     "output_type": "error",
     "traceback": [
      "\u001b[0;31m---------------------------------------------------------------------------\u001b[0m",
      "\u001b[0;31mNameError\u001b[0m                                 Traceback (most recent call last)",
      "\u001b[0;32m<ipython-input-5-3da24ff976c2>\u001b[0m in \u001b[0;36m<module>\u001b[0;34m\u001b[0m\n\u001b[0;32m----> 1\u001b[0;31m \u001b[0mdef_coord\u001b[0m \u001b[0;34m=\u001b[0m \u001b[0mcoord\u001b[0m \u001b[0;34m+\u001b[0m \u001b[0mutotal\u001b[0m\u001b[0;34m\u001b[0m\u001b[0;34m\u001b[0m\u001b[0m\n\u001b[0m\u001b[1;32m      2\u001b[0m \u001b[0;34m\u001b[0m\u001b[0m\n\u001b[1;32m      3\u001b[0m \u001b[0mplt\u001b[0m\u001b[0;34m.\u001b[0m\u001b[0mfigure\u001b[0m\u001b[0;34m(\u001b[0m\u001b[0;34m)\u001b[0m\u001b[0;34m\u001b[0m\u001b[0;34m\u001b[0m\u001b[0m\n\u001b[1;32m      4\u001b[0m \u001b[0mplt\u001b[0m\u001b[0;34m.\u001b[0m\u001b[0maxis\u001b[0m\u001b[0;34m(\u001b[0m\u001b[0;34m'equal'\u001b[0m\u001b[0;34m)\u001b[0m\u001b[0;34m\u001b[0m\u001b[0;34m\u001b[0m\u001b[0m\n\u001b[1;32m      5\u001b[0m \u001b[0mdraw_slinky\u001b[0m\u001b[0;34m(\u001b[0m\u001b[0;34m-\u001b[0m\u001b[0;36m5\u001b[0m\u001b[0;34m,\u001b[0m \u001b[0mcoord\u001b[0m\u001b[0;34m,\u001b[0m \u001b[0;36m2\u001b[0m\u001b[0;34m)\u001b[0m\u001b[0;34m\u001b[0m\u001b[0;34m\u001b[0m\u001b[0m\n",
      "\u001b[0;31mNameError\u001b[0m: name 'utotal' is not defined"
     ]
    }
   ],
   "source": [
    "def_coord = coord + utotal\n",
    "\n",
    "plt.figure()\n",
    "plt.axis('equal')\n",
    "draw_slinky(-5, coord, 2)\n",
    "draw_slinky(5, def_coord, 2)\n",
    "\n",
    "# check the value of the displacement at the end of the slinky\n",
    "uend = u[-1]\n",
    "print(uend)"
   ]
  },
  {
   "cell_type": "markdown",
   "metadata": {},
   "source": [
    "What if you want to add masses at different locations and get the corresponding displacements?\n",
    "\n",
    "**Check your answers!**\n",
    "\n",
    "\n",
    "Complete the function below that takes `delta_force`, `f_given` and `K` as input, and return the value of the displacement at the end."
   ]
  },
  {
   "cell_type": "code",
   "execution_count": null,
   "metadata": {},
   "outputs": [],
   "source": [
    "#grade (enter your code in this cell - DO NOT DELETE THIS LINE) \n",
    "def solve_varying_force(delta_force, f_given, K):\n",
    "    # delta_force = increment in the load vector\n",
    "    # f_given = load vector due to gravity\n",
    "    # K = stiffness matrix\n",
    "    \n",
    "    # compute displacement at the free end of the slinky\n",
    "    u = np.array([0])   # replace np.array([0]) with your computation\n",
    "    \n",
    "    return u[-1]"
   ]
  },
  {
   "cell_type": "markdown",
   "metadata": {},
   "source": [
    "Print out to check the result computed by your function:"
   ]
  },
  {
   "cell_type": "code",
   "execution_count": null,
   "metadata": {},
   "outputs": [],
   "source": [
    "solve_varying_force(delta_force, f_given, K)"
   ]
  },
  {
   "cell_type": "markdown",
   "metadata": {},
   "source": [
    "Take a look at the code snippet below. It uses the above function to get the end displacement of different (random) options for `delta_force` (you can try running it several times)."
   ]
  },
  {
   "cell_type": "code",
   "execution_count": null,
   "metadata": {},
   "outputs": [],
   "source": [
    "u_list = []\n",
    "for i in range(20):\n",
    "    random_delta_force = np.random.choice([0,1],N)*g\n",
    "    uend = solve_varying_force(random_delta_force, f_given, K)\n",
    "    u_list.append(uend)\n",
    "    \n",
    "plt.plot(u_list,'o')"
   ]
  },
  {
   "cell_type": "markdown",
   "metadata": {},
   "source": [
    "The function `numpy.linalg.solve` is effectively *inverting* ${\\bf K}$ each time we call it.  Can you recall anything you have learned in lecture that can be used here to make your code snippet more efficient?\n",
    "\n",
    "**You should discuss this with your group, and think about strategies to avoid this unnecessary computational effort.**"
   ]
  },
  {
   "cell_type": "code",
   "execution_count": null,
   "metadata": {},
   "outputs": [],
   "source": []
  }
 ],
 "metadata": {
  "kernelspec": {
   "display_name": "Python 3",
   "language": "python",
   "name": "python3"
  },
  "language_info": {
   "codemirror_mode": {
    "name": "ipython",
    "version": 3
   },
   "file_extension": ".py",
   "mimetype": "text/x-python",
   "name": "python",
   "nbconvert_exporter": "python",
   "pygments_lexer": "ipython3",
   "version": "3.8.6"
  }
 },
 "nbformat": 4,
 "nbformat_minor": 4
}
