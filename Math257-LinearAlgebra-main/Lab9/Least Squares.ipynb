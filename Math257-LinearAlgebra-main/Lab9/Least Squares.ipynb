{
 "cells": [
  {
   "cell_type": "code",
   "execution_count": 1,
   "metadata": {},
   "outputs": [
    {
     "name": "stderr",
     "output_type": "stream",
     "text": [
      "Matplotlib created a temporary config/cache directory at /tmp/matplotlib-urv5ilhd because the default path (/tmp/cache/matplotlib) is not a writable directory; it is highly recommended to set the MPLCONFIGDIR environment variable to a writable directory, in particular to speed up the import of Matplotlib and to better support multiprocessing.\n"
     ]
    }
   ],
   "source": [
    "import numpy as np\n",
    "import numpy.linalg as la\n",
    "import scipy.linalg as sla\n",
    "import matplotlib.pyplot as plt"
   ]
  },
  {
   "cell_type": "markdown",
   "metadata": {},
   "source": [
    "# Lesson 9: Linear Least Squares"
   ]
  },
  {
   "cell_type": "markdown",
   "metadata": {},
   "source": [
    "## Linear Least Squares and Normal Equations\n",
    "\n",
    "Consider a set of $m$ data points $\\{(t_1,y_1),(t_2,y_2), ...,(t_m,y_m)\\}$. Suppose we want to find a straight line that best fits these data points. Mathematically, we want to find the slope and intercept ($x_1$ and $x_2$ respectively) such that\n",
    "\n",
    "$$y_i = x_1 t_i + x_2, \\qquad i \\in \\{1,2,...,m\\} $$"
   ]
  },
  {
   "cell_type": "markdown",
   "metadata": {},
   "source": [
    "We can write this more explicitly as ${\\bf y} = {\\bf t}\\cdot x_1 + 1\\cdot x_2$, which lets us separate the coefficients we are trying to solve for ($x_1$ and $x_2$) from the input data that we have (${\\bf y}$ and ${\\bf t}$).  Now we can put these values into a matrix format:\n",
    "\n",
    "$$\\begin{bmatrix}y_1 \\\\ y_2 \\\\ \\vdots \\\\ y_m\\end{bmatrix} = \\begin{bmatrix}t_1 & 1 \\\\ t_2 & 1 \\\\ \\vdots & \\vdots \\\\ t_m & 1\\end{bmatrix} \\begin{bmatrix}x_1 \\\\ x_2\\end{bmatrix} \\qquad \\Leftrightarrow \\qquad {\\bf y} = {\\bf A}{\\bf x}$$"
   ]
  },
  {
   "cell_type": "markdown",
   "metadata": {},
   "source": [
    "where ${\\bf A}$ is the design matrix that is a function of the $t_i$ data, ${\\bf y}$ is the vector with the $y_i$ data and ${\\bf x}$ is the vector with the coefficients $x_i$.  Notice how the values that multiply our coefficients $x_i$ are the columns of ${\\bf A}$.\n",
    "\n",
    "Generally, if we have a linear system where ${\\bf A}$ is an $m \\times n$ matrix and $m > n$ we call this system **overdetermined**. For these systems, the equality is usually not exactly satisfiable as ${\\bf y}$ may not lie in the column space of ${\\bf A}$. Therefore, an overdetermined system is better written as\n",
    "\n",
    "$${\\bf A}{\\bf x} \\cong {\\bf y}  $$"
   ]
  },
  {
   "cell_type": "markdown",
   "metadata": {},
   "source": [
    "For an overdetermined system ${\\bf A}{\\bf x} \\cong {\\bf y}$, we are typically looking for a solution ${\\bf x}$  that minimizes the squared norm of the residual vector ${\\bf r} = {\\bf y}-{\\bf A x}$,\n",
    "\n",
    "$$ \\min_{\\bf x} ||{\\bf r}||^2 = \\min_{\\bf x} ||{\\bf y} - {\\bf A x}||^2$$\n",
    "\n",
    "This problem  is called a **linear least-squares problem**, and the solution ${\\bf x}$ is called least-squares solution. You learned during lecture that the solution of the least squares problem is also the solution of the system of **normal equations**:\n",
    "\n",
    "$${\\bf A}^T {\\bf A}{\\bf x} = {\\bf A}^T {\\bf y}  $$"
   ]
  },
  {
   "cell_type": "markdown",
   "metadata": {},
   "source": [
    "### Example 1 - fitting a line\n",
    "\n",
    "Consider the data set given by `pts`:"
   ]
  },
  {
   "cell_type": "code",
   "execution_count": 2,
   "metadata": {},
   "outputs": [
    {
     "name": "stdout",
     "output_type": "stream",
     "text": [
      "[2 3 5 6]\n"
     ]
    },
    {
     "data": {
      "image/png": "[encoded data removed]",
      "text/plain": [
       "<Figure size 432x288 with 1 Axes>"
      ]
     },
     "metadata": {
      "needs_background": "light"
     },
     "output_type": "display_data"
    }
   ],
   "source": [
    "pts = np.array([[2, 4], [3, 2], [5, 1], [6, 0]])\n",
    "t_line = pts[:,0]\n",
    "\n",
    "\n",
    "y_line = pts[:,1]\n",
    "\n",
    "plt.plot(t_line, y_line, 'o')\n",
    "print(t_line)"
   ]
  },
  {
   "cell_type": "markdown",
   "metadata": {},
   "source": [
    "**Check your answers:**\n",
    "\n",
    "Define the matrix ${\\bf A}$ that can be used to solve for the coefficients $x_1$ and $x_2$.\n",
    "\n",
    "Store the value of it in variable `A_line`."
   ]
  },
  {
   "cell_type": "code",
   "execution_count": 3,
   "metadata": {},
   "outputs": [],
   "source": [
    "#grade (enter your code in this cell - DO NOT DELETE THIS LINE) \n",
    "# Define A_line here\n",
    "A_line = np.array([[2, 1], [3, 1], [5, 1], [6, 1]])"
   ]
  },
  {
   "cell_type": "markdown",
   "metadata": {},
   "source": [
    "**Check your answers:**\n",
    "\n",
    "Use the normal equations to find the coefficients in ${\\bf x}$.\n",
    "\n",
    "Store the value of it in variable `x_line`."
   ]
  },
  {
   "cell_type": "code",
   "execution_count": 4,
   "metadata": {},
   "outputs": [],
   "source": [
    "#grade (enter your code in this cell - DO NOT DELETE THIS LINE) \n",
    "x_line = la.solve(A_line.T@A_line,A_line.T@y_line)"
   ]
  },
  {
   "cell_type": "markdown",
   "metadata": {},
   "source": [
    "Plot the points and fit curve:"
   ]
  },
  {
   "cell_type": "code",
   "execution_count": 5,
   "metadata": {},
   "outputs": [
    {
     "data": {
      "text/plain": [
       "[<matplotlib.lines.Line2D at 0x7fb61744bf70>]"
      ]
     },
     "execution_count": 5,
     "metadata": {},
     "output_type": "execute_result"
    },
    {
     "data": {
      "image/png": "[encoded data removed]",
      "text/plain": [
       "<Figure size 432x288 with 1 Axes>"
      ]
     },
     "metadata": {
      "needs_background": "light"
     },
     "output_type": "display_data"
    }
   ],
   "source": [
    "plt.plot(t_line, y_line, 'o')\n",
    "plt.plot(t_line, t_line * x_line[0] + x_line[1])"
   ]
  },
  {
   "cell_type": "markdown",
   "metadata": {},
   "source": [
    "## Linear Least Squares and QR"
   ]
  },
  {
   "cell_type": "markdown",
   "metadata": {},
   "source": [
    "While easy to understand and remember, using the normal equations can be prone to numerical instabilities (you will learn more about this if you take a Numerical Methods or Analysis class! Hint hint!)\n",
    "\n",
    "Instead of solving the normal equations using the design matrix ${\\bf A}$, we will instead use its QR decomposition\n",
    "\n",
    "$$ {\\bf A} = {\\bf QR} $$\n",
    "\n",
    "where ${\\bf Q}$ is an orthogonal matrix and ${\\bf R}$ is an upper triangular matrix. Hence the least squares solution ${\\bf x}$ can be obtained as:\n",
    "\n",
    "$$ {\\bf A}^T{\\bf Ax} = {\\bf A}^T{\\bf y} \\quad \\Leftrightarrow \\quad {\\bf Rx} = {\\bf Q}^T{\\bf y}$$\n",
    "\n",
    "**Check your answers:**\n",
    "\n",
    "Write the `least_sq` function that finds the least squares solution ${\\bf x}$ given matrix ${\\bf A}$ and vector ${\\bf y}$. \n",
    "\n",
    "*Hint: Try using the functions [numpy.linalg.qr](https://numpy.org/doc/stable/reference/generated/numpy.linalg.qr.html) and [scipy.linalg.solve_triangular](https://docs.scipy.org/doc/scipy/reference/generated/scipy.linalg.solve_triangular.html).*"
   ]
  },
  {
   "cell_type": "code",
   "execution_count": 6,
   "metadata": {},
   "outputs": [],
   "source": [
    "#grade (enter your code in this cell - DO NOT DELETE THIS LINE) \n",
    "def least_sq(A, y):\n",
    "    # Find the least squares solution to Ax = y\n",
    "    # by solving Rx = Q^T y for x where A = QR\n",
    "    Q,R = la.qr(A)\n",
    "    x = sla.solve_triangular(R,Q.T@y)\n",
    "    return x"
   ]
  },
  {
   "cell_type": "markdown",
   "metadata": {},
   "source": [
    "Let's confirm that we get the same answer as we did above with the normal equations."
   ]
  },
  {
   "cell_type": "code",
   "execution_count": 7,
   "metadata": {},
   "outputs": [
    {
     "data": {
      "text/plain": [
       "array([-0.9 ,  5.35])"
      ]
     },
     "execution_count": 7,
     "metadata": {},
     "output_type": "execute_result"
    }
   ],
   "source": [
    "xqr = least_sq(A_line, y_line)\n",
    "xqr"
   ]
  },
  {
   "cell_type": "code",
   "execution_count": 13,
   "metadata": {},
   "outputs": [
    {
     "data": {
      "text/plain": [
       "[<matplotlib.lines.Line2D at 0x7f7bc5445760>]"
      ]
     },
     "execution_count": 13,
     "metadata": {},
     "output_type": "execute_result"
    },
    {
     "data": {
      "image/png": "[encoded data removed]",
      "text/plain": [
       "<Figure size 432x288 with 1 Axes>"
      ]
     },
     "metadata": {
      "needs_background": "light"
     },
     "output_type": "display_data"
    }
   ],
   "source": [
    "plt.plot(t_line, y_line, 'o')\n",
    "plt.plot(t_line, t_line * xqr[0] + xqr[1])\n",
    "plt.plot(t_line, t_line * x_line[0] + x_line[1],'x')"
   ]
  },
  {
   "cell_type": "markdown",
   "metadata": {},
   "source": [
    "## Example 2: quadratic curve"
   ]
  },
  {
   "cell_type": "markdown",
   "metadata": {},
   "source": [
    "Lets look at another set of points:"
   ]
  },
  {
   "cell_type": "code",
   "execution_count": 23,
   "metadata": {},
   "outputs": [
    {
     "data": {
      "text/plain": [
       "[<matplotlib.lines.Line2D at 0x7f7bc55c1eb0>]"
      ]
     },
     "execution_count": 23,
     "metadata": {},
     "output_type": "execute_result"
    },
    {
     "data": {
      "image/png": "[encoded data removed]",
      "text/plain": [
       "<Figure size 432x288 with 1 Axes>"
      ]
     },
     "metadata": {
      "needs_background": "light"
     },
     "output_type": "display_data"
    }
   ],
   "source": [
    "n_quad = 50\n",
    "t_quad = np.linspace(-1, 1, n_quad)\n",
    "y_quad = t_quad ** 2 + np.random.randn(n_quad) * 0.05 + 5\n",
    "\n",
    "plt.plot(t_quad, y_quad, 'o')"
   ]
  },
  {
   "cell_type": "markdown",
   "metadata": {},
   "source": [
    "This looks a lot like a quadratic function!  Let's try to fit a curve to this:\n",
    "\n",
    "$$y = x_1 \\,t^2 + x_2\\,t + x_3$$"
   ]
  },
  {
   "cell_type": "markdown",
   "metadata": {},
   "source": [
    "**Check your answer:**\n",
    "\n",
    "We want to find the coefficients $x_1$, $x_2$, and $x_3$ that solve the least squares problem ${\\bf A x} \\cong {\\bf y}$. Taking ${\\bf x} = [x_1, x_2,x_3]^T$, define the appropriate design matrix ${\\bf A}$.\n",
    "\n",
    "Store the value of it in variable `A_quad`."
   ]
  },
  {
   "cell_type": "code",
   "execution_count": 15,
   "metadata": {},
   "outputs": [],
   "source": [
    "#grade (enter your code in this cell - DO NOT DELETE THIS LINE) \n",
    "A_quad = np.array([t_quad**2, t_quad, t_quad**0]).T"
   ]
  },
  {
   "cell_type": "markdown",
   "metadata": {},
   "source": [
    "Now we solve for the coefficients ${\\bf x}$ using the `least_sq` function you have defined above. \n",
    "\n",
    "Store the value of it in variable `x_quad`."
   ]
  },
  {
   "cell_type": "code",
   "execution_count": 16,
   "metadata": {},
   "outputs": [
    {
     "data": {
      "text/plain": [
       "array([1.0270833 , 0.01119093, 4.99927301])"
      ]
     },
     "execution_count": 16,
     "metadata": {},
     "output_type": "execute_result"
    }
   ],
   "source": [
    "x_quad = least_sq(A_quad, y_quad)\n",
    "x_quad"
   ]
  },
  {
   "cell_type": "code",
   "execution_count": 25,
   "metadata": {},
   "outputs": [
    {
     "data": {
      "text/plain": [
       "[<matplotlib.lines.Line2D at 0x7f7bc5113700>]"
      ]
     },
     "execution_count": 25,
     "metadata": {},
     "output_type": "execute_result"
    },
    {
     "data": {
      "image/png": "[encoded data removed]",
      "text/plain": [
       "<Figure size 432x288 with 1 Axes>"
      ]
     },
     "metadata": {
      "needs_background": "light"
     },
     "output_type": "display_data"
    }
   ],
   "source": [
    "plt.plot(t_quad, y_quad, 'o')\n",
    "plt.plot(t_quad, x_quad[0] * t_quad ** 2 + x_quad[1] * t_quad + x_quad[2])"
   ]
  },
  {
   "cell_type": "markdown",
   "metadata": {},
   "source": [
    "As you can see, even though the resulting function does not appear linear, we are still able to use linear least squares here.  This is because the function only needs to be linear with respect to the coefficients $x_i$ (e.g. cannot make direct use of $x_i^2$)."
   ]
  },
  {
   "cell_type": "markdown",
   "metadata": {},
   "source": [
    "In fact, what we are doing here is simply taking linear combinations of some basis functions:\n",
    "\n",
    "$$ y = x_1 f_1(t) + x_2 f_2(t) + x_3 f_3(t) $$\n",
    "\n",
    "$$\\begin{align*} f_1(t) &= t^2 \\\\ f_2(t) &= t \\\\ f_3(t) &= 1 \\end{align*} $$\n",
    "\n",
    "As long as we can write the function we are trying to fit in this manner (or somehow get it in that form), we can use least squares."
   ]
  },
  {
   "cell_type": "markdown",
   "metadata": {},
   "source": [
    "## Example 3: exponential fit"
   ]
  },
  {
   "cell_type": "markdown",
   "metadata": {},
   "source": [
    "Assume the following set of data points:"
   ]
  },
  {
   "cell_type": "code",
   "execution_count": 26,
   "metadata": {},
   "outputs": [
    {
     "data": {
      "text/plain": [
       "[<matplotlib.lines.Line2D at 0x7f7bc50f7280>]"
      ]
     },
     "execution_count": 26,
     "metadata": {},
     "output_type": "execute_result"
    },
    {
     "data": {
      "image/png": "[encoded data removed]",
      "text/plain": [
       "<Figure size 432x288 with 1 Axes>"
      ]
     },
     "metadata": {
      "needs_background": "light"
     },
     "output_type": "display_data"
    }
   ],
   "source": [
    "n_exp = 50\n",
    "t_exp = np.linspace(0.1, np.e * 4, n_exp)\n",
    "y_exp = np.exp(t_exp * 0.5) * 3 + np.random.randn(n_exp) * 2\n",
    "y_exp = np.where(y_exp<1e-6, 1e-6, y_exp)\n",
    "plt.plot(t_exp, y_exp, 'o')"
   ]
  },
  {
   "cell_type": "markdown",
   "metadata": {},
   "source": [
    "Let's say we want to fit the function\n",
    "\n",
    "$$ y = x_1\\,e^{x_2 \\, t} $$\n",
    "\n",
    "to the above plot. Notice that we can't directly use linear least squares, since the function is not linear with respect to every coefficient $x_i$.  What if we take the natural log of each side?\n",
    "\n",
    "$$ \\ln y = \\ln x_1 + x_2 t $$\n",
    "\n",
    "With the change of variables $\\bar y = \\ln y$ and $\\bar x_1 = \\ln x_1$, we can rewrite the above equation as:\n",
    "\n",
    "$$ \\bar y  = \\bar x_1 + x_2 t $$"
   ]
  },
  {
   "cell_type": "markdown",
   "metadata": {},
   "source": [
    "**Check your answers:**\n",
    "\n",
    "We need to write the design matrix ${\\bf A}$ and the right-hand side vector ${\\bf \\bar y}$ needed to obtain the least squares solution ${\\bf \\bar x} = [\\bar x_1, x_2]$.\n",
    "\n",
    "Store the value of ${\\bf A}$ in variable `A_exp` and the value of ${\\bf \\bar y}$ in variable `ybar`.\n",
    "\n",
    "*Hint: Recall that [numpy.log](https://numpy.org/doc/stable/reference/generated/numpy.log.html) computes the natural logarithm by default.*"
   ]
  },
  {
   "cell_type": "code",
   "execution_count": 31,
   "metadata": {},
   "outputs": [],
   "source": [
    "#grade (enter your code in this cell - DO NOT DELETE THIS LINE) \n",
    "A_exp = np.array([t_exp**0, t_exp]).T\n",
    "ybar = np.log(y_exp)"
   ]
  },
  {
   "cell_type": "markdown",
   "metadata": {},
   "source": [
    "Now, solve for the coefficients ${\\bf \\bar x}$ using the `least_sq` function you have defined above.\n",
    "\n",
    "Store the value of it in variable `xbar`."
   ]
  },
  {
   "cell_type": "code",
   "execution_count": 32,
   "metadata": {},
   "outputs": [
    {
     "data": {
      "text/plain": [
       "array([0.96862255, 0.51669673])"
      ]
     },
     "execution_count": 32,
     "metadata": {},
     "output_type": "execute_result"
    }
   ],
   "source": [
    "xbar = least_sq(A_exp, ybar)\n",
    "xbar"
   ]
  },
  {
   "cell_type": "markdown",
   "metadata": {},
   "source": [
    "**Check your answers:**\n",
    "\n",
    "You can now use the change of variables to determine the coefficients $x_1$ and $x_2$ from the equation $y = x_1\\,e^{x_2 \\, t}$\n",
    "\n",
    "Store the value of them in variables `x1_exp` and `x2_exp` respectively.\n",
    "\n",
    "*Hint: You will need to use [numpy.exp](https://numpy.org/doc/stable/reference/generated/numpy.exp.html).*"
   ]
  },
  {
   "cell_type": "code",
   "execution_count": 33,
   "metadata": {},
   "outputs": [],
   "source": [
    "#grade (enter your code in this cell - DO NOT DELETE THIS LINE) \n",
    "x1_exp = np.e**xbar[0]\n",
    "x2_exp = xbar[1]"
   ]
  },
  {
   "cell_type": "markdown",
   "metadata": {},
   "source": [
    "Plot the points and the fit together:"
   ]
  },
  {
   "cell_type": "code",
   "execution_count": 34,
   "metadata": {},
   "outputs": [
    {
     "data": {
      "text/plain": [
       "[<matplotlib.lines.Line2D at 0x7f7bc4fd01f0>]"
      ]
     },
     "execution_count": 34,
     "metadata": {},
     "output_type": "execute_result"
    },
    {
     "data": {
      "image/png": "[encoded data removed]",
      "text/plain": [
       "<Figure size 432x288 with 1 Axes>"
      ]
     },
     "metadata": {
      "needs_background": "light"
     },
     "output_type": "display_data"
    }
   ],
   "source": [
    "plt.plot(t_exp, y_exp, 'o')\n",
    "plt.plot(t_exp, x1_exp * np.exp(t_exp * x2_exp))"
   ]
  },
  {
   "cell_type": "markdown",
   "metadata": {},
   "source": [
    "## Using real data: climate change"
   ]
  },
  {
   "cell_type": "markdown",
   "metadata": {},
   "source": [
    "![Ice Extent](ice.png)\n",
    "\n",
    "In addition to fitting functions to data points, we can use least squares to make predictions about future events.  In this example, we have a dataset containing the extent of arctic sea ice for each year since 1979 (given as the average during each October). We will fit least squares models to some of this data, using them to predict the extent of arctic sea ice in future years.\n",
    "\n",
    "*This is based on [\"Using Data from Climate Science to Teach Introductory Statistics\"](http://jse.amstat.org/v21n1/witt.pdf) and uses [NOAA data](https://nsidc.org/data/g02135) contributed by [Florence Fetterer](https://nsidc.org/research/bios/fetterer.html), et al.* "
   ]
  },
  {
   "cell_type": "code",
   "execution_count": 35,
   "metadata": {},
   "outputs": [
    {
     "data": {
      "text/html": [
       "<div>\n",
       "<style scoped>\n",
       "    .dataframe tbody tr th:only-of-type {\n",
       "        vertical-align: middle;\n",
       "    }\n",
       "\n",
       "    .dataframe tbody tr th {\n",
       "        vertical-align: top;\n",
       "    }\n",
       "\n",
       "    .dataframe thead th {\n",
       "        text-align: right;\n",
       "    }\n",
       "</style>\n",
       "<table border=\"1\" class=\"dataframe\">\n",
       "  <thead>\n",
       "    <tr style=\"text-align: right;\">\n",
       "      <th></th>\n",
       "      <th>year</th>\n",
       "      <th>mo</th>\n",
       "      <th>data-type</th>\n",
       "      <th>region</th>\n",
       "      <th>extent</th>\n",
       "      <th>area</th>\n",
       "    </tr>\n",
       "  </thead>\n",
       "  <tbody>\n",
       "    <tr>\n",
       "      <th>0</th>\n",
       "      <td>1979</td>\n",
       "      <td>10</td>\n",
       "      <td>Goddard</td>\n",
       "      <td>N</td>\n",
       "      <td>8.75</td>\n",
       "      <td>6.19</td>\n",
       "    </tr>\n",
       "    <tr>\n",
       "      <th>1</th>\n",
       "      <td>1980</td>\n",
       "      <td>10</td>\n",
       "      <td>Goddard</td>\n",
       "      <td>N</td>\n",
       "      <td>9.18</td>\n",
       "      <td>6.50</td>\n",
       "    </tr>\n",
       "    <tr>\n",
       "      <th>2</th>\n",
       "      <td>1981</td>\n",
       "      <td>10</td>\n",
       "      <td>Goddard</td>\n",
       "      <td>N</td>\n",
       "      <td>8.86</td>\n",
       "      <td>6.27</td>\n",
       "    </tr>\n",
       "    <tr>\n",
       "      <th>3</th>\n",
       "      <td>1982</td>\n",
       "      <td>10</td>\n",
       "      <td>Goddard</td>\n",
       "      <td>N</td>\n",
       "      <td>9.42</td>\n",
       "      <td>6.67</td>\n",
       "    </tr>\n",
       "    <tr>\n",
       "      <th>4</th>\n",
       "      <td>1983</td>\n",
       "      <td>10</td>\n",
       "      <td>Goddard</td>\n",
       "      <td>N</td>\n",
       "      <td>9.33</td>\n",
       "      <td>6.79</td>\n",
       "    </tr>\n",
       "  </tbody>\n",
       "</table>\n",
       "</div>"
      ],
      "text/plain": [
       "   year   mo      data-type   region   extent     area\n",
       "0  1979   10        Goddard        N     8.75     6.19\n",
       "1  1980   10        Goddard        N     9.18     6.50\n",
       "2  1981   10        Goddard        N     8.86     6.27\n",
       "3  1982   10        Goddard        N     9.42     6.67\n",
       "4  1983   10        Goddard        N     9.33     6.79"
      ]
     },
     "execution_count": 35,
     "metadata": {},
     "output_type": "execute_result"
    }
   ],
   "source": [
    "import pandas as pd\n",
    "\n",
    "ice_data = pd.read_csv(\"N_10_extent_v3.0.csv\", dtype={'year': np.int64, 'extent': np.double})\n",
    "ice_data.head() # print out first 5 rows of the data"
   ]
  },
  {
   "cell_type": "markdown",
   "metadata": {},
   "source": [
    "We have imported a data set for you using [Pandas](https://pandas.pydata.org/docs/user_guide/index.html), a library that provides routines for manipulating data tables.  *You do not need to know how to use Pandas for this activity or course*. Generally, Pandas is useful for organizing large, heterogeneous data sets (for which NumPy falls short)."
   ]
  },
  {
   "cell_type": "code",
   "execution_count": 36,
   "metadata": {},
   "outputs": [
    {
     "data": {
      "text/plain": [
       "array([1979, 1980, 1981, 1982, 1983, 1984, 1985, 1986, 1987, 1988, 1989,\n",
       "       1990, 1991, 1992, 1993, 1994, 1995, 1996, 1997, 1998, 1999, 2000,\n",
       "       2001, 2002, 2003, 2004, 2005, 2006, 2007, 2008, 2009, 2010, 2011,\n",
       "       2012, 2013, 2014, 2015, 2016, 2017, 2018, 2019, 2020, 2021])"
      ]
     },
     "execution_count": 36,
     "metadata": {},
     "output_type": "execute_result"
    }
   ],
   "source": [
    "year = ice_data['year'].values\n",
    "year"
   ]
  },
  {
   "cell_type": "code",
   "execution_count": 37,
   "metadata": {},
   "outputs": [
    {
     "data": {
      "text/plain": [
       "array([8.75, 9.18, 8.86, 9.42, 9.33, 8.56, 8.55, 9.48, 9.05, 9.13, 8.83,\n",
       "       8.48, 8.54, 9.32, 8.79, 8.92, 7.83, 9.16, 8.34, 8.45, 8.6 , 8.38,\n",
       "       8.3 , 8.16, 7.85, 7.93, 7.35, 7.54, 6.04, 7.35, 6.92, 6.98, 6.46,\n",
       "       5.89, 7.45, 7.23, 6.97, 6.08, 6.77, 6.13, 5.73, 5.33, 6.77])"
      ]
     },
     "execution_count": 37,
     "metadata": {},
     "output_type": "execute_result"
    }
   ],
   "source": [
    "extent = ice_data[' extent'].values\n",
    "extent"
   ]
  },
  {
   "cell_type": "markdown",
   "metadata": {},
   "source": [
    "We can use the first 22 years of the ice data to fit a linear function, and then predict future values of ice extent.  Below, we plot the years 1979 to 2000 with the corresponding ice extents."
   ]
  },
  {
   "cell_type": "code",
   "execution_count": 38,
   "metadata": {},
   "outputs": [
    {
     "data": {
      "text/plain": [
       "[<matplotlib.lines.Line2D at 0x7f7bbf3a2880>]"
      ]
     },
     "execution_count": 38,
     "metadata": {},
     "output_type": "execute_result"
    },
    {
     "data": {
      "image/png": "[encoded data removed]",
      "text/plain": [
       "<Figure size 432x288 with 1 Axes>"
      ]
     },
     "metadata": {
      "needs_background": "light"
     },
     "output_type": "display_data"
    }
   ],
   "source": [
    "n_ice = 22\n",
    "\n",
    "plt.xlabel(\"Year\")\n",
    "plt.ylabel(\"Arctic Sea Ice Extent (1,000,000 sq km)\")\n",
    "plt.plot(year[:n_ice], extent[:n_ice], 'o')"
   ]
  },
  {
   "cell_type": "markdown",
   "metadata": {},
   "source": [
    "**Check your answers:**\n",
    "\n",
    "Using your `least_sq` function and general knowledge of least squares, fit a linear model to the ice extent:\n",
    "\n",
    "$$y = x_1 \\,t + x_2$$\n",
    "\n",
    "Store your coefficients in the array `x_ice_linear`."
   ]
  },
  {
   "cell_type": "code",
   "execution_count": 43,
   "metadata": {},
   "outputs": [],
   "source": [
    "#grade (enter your code in this cell - DO NOT DELETE THIS LINE) \n",
    "t_ice = year[:n_ice]    # definition of t\n",
    "y_ice = extent[:n_ice]  # definition of y\n",
    "# Determine x_ice_linear using your least_sq() function\n",
    "A_ice = np.array([t_ice,t_ice**0]).T\n",
    "x_ice_linear = least_sq(A_ice,y_ice)\n"
   ]
  },
  {
   "cell_type": "markdown",
   "metadata": {},
   "source": [
    "Below is the plot of the 22 given points with those corresponding from the least squares model:"
   ]
  },
  {
   "cell_type": "code",
   "execution_count": 44,
   "metadata": {},
   "outputs": [
    {
     "data": {
      "text/plain": [
       "[<matplotlib.lines.Line2D at 0x7f7bbf2bffa0>]"
      ]
     },
     "execution_count": 44,
     "metadata": {},
     "output_type": "execute_result"
    },
    {
     "data": {
      "image/png": "[encoded data removed]",
      "text/plain": [
       "<Figure size 432x288 with 1 Axes>"
      ]
     },
     "metadata": {
      "needs_background": "light"
     },
     "output_type": "display_data"
    }
   ],
   "source": [
    "line_model = x_ice_linear[0]*t_ice + x_ice_linear[1]\n",
    "\n",
    "plt.xlabel(\"Year\")\n",
    "plt.ylabel(\"Arctic Sea Ice Extent (1,000,000 sq km)\")\n",
    "plt.plot(year[:n_ice], extent[:n_ice], 'o')\n",
    "plt.plot(t_ice, line_model , 's')"
   ]
  },
  {
   "cell_type": "markdown",
   "metadata": {},
   "source": [
    "Suppose we want to use the same model (linear least squares fitted to years 1979 to 2000) to predict the ice extent beyond year 2000. For example, let's consider data from years 1979 to 2021:"
   ]
  },
  {
   "cell_type": "code",
   "execution_count": 45,
   "metadata": {},
   "outputs": [
    {
     "data": {
      "text/plain": [
       "array([1979., 1980., 1981., 1982., 1983., 1984., 1985., 1986., 1987.,\n",
       "       1988., 1989., 1990., 1991., 1992., 1993., 1994., 1995., 1996.,\n",
       "       1997., 1998., 1999., 2000., 2001., 2002., 2003., 2004., 2005.,\n",
       "       2006., 2007., 2008., 2009., 2010., 2011., 2012., 2013., 2014.,\n",
       "       2015., 2016., 2017., 2018., 2019., 2020., 2021.])"
      ]
     },
     "execution_count": 45,
     "metadata": {},
     "output_type": "execute_result"
    }
   ],
   "source": [
    "years_plus = np.linspace(1979, 2021, 43)\n",
    "years_plus"
   ]
  },
  {
   "cell_type": "markdown",
   "metadata": {},
   "source": [
    "**Check your answers:**\n",
    "\n",
    "Determine the predicted ice extent values for the years 1979 to 2021 according to your `x_ice_linear` model from above.\n",
    "\n",
    "Store these values in the array `ice_plus`.\n",
    "\n",
    "*Hint: Do not recompute the model using the additional ice extent data. We can conceive the data from years 1979 to 2000 as our training set and the data from years 2001 to 2021 as our testing/validation set.*"
   ]
  },
  {
   "cell_type": "code",
   "execution_count": 2,
   "metadata": {},
   "outputs": [
    {
     "ename": "NameError",
     "evalue": "name 'x_ice_linear' is not defined",
     "output_type": "error",
     "traceback": [
      "\u001b[0;31m---------------------------------------------------------------------------\u001b[0m",
      "\u001b[0;31mNameError\u001b[0m                                 Traceback (most recent call last)",
      "\u001b[0;32m<ipython-input-2-9b8173e9431c>\u001b[0m in \u001b[0;36m<module>\u001b[0;34m\u001b[0m\n\u001b[1;32m      1\u001b[0m \u001b[0;31m#grade (enter your code in this cell - DO NOT DELETE THIS LINE)\u001b[0m\u001b[0;34m\u001b[0m\u001b[0;34m\u001b[0m\u001b[0;34m\u001b[0m\u001b[0m\n\u001b[0;32m----> 2\u001b[0;31m \u001b[0mice_plus\u001b[0m \u001b[0;34m=\u001b[0m \u001b[0mx_ice_linear\u001b[0m\u001b[0;34m[\u001b[0m\u001b[0;36m0\u001b[0m\u001b[0;34m]\u001b[0m\u001b[0;34m*\u001b[0m\u001b[0myears_plus\u001b[0m\u001b[0;34m+\u001b[0m\u001b[0mx_ice_linear\u001b[0m\u001b[0;34m[\u001b[0m\u001b[0;36m1\u001b[0m\u001b[0;34m]\u001b[0m\u001b[0;34m\u001b[0m\u001b[0;34m\u001b[0m\u001b[0m\n\u001b[0m\u001b[1;32m      3\u001b[0m \u001b[0mprint\u001b[0m\u001b[0;34m(\u001b[0m\u001b[0mx_ice_linear\u001b[0m\u001b[0;34m)\u001b[0m\u001b[0;34m\u001b[0m\u001b[0;34m\u001b[0m\u001b[0m\n",
      "\u001b[0;31mNameError\u001b[0m: name 'x_ice_linear' is not defined"
     ]
    }
   ],
   "source": [
    "#grade (enter your code in this cell - DO NOT DELETE THIS LINE) \n",
    "ice_plus = x_ice_linear[0]*years_plus+x_ice_linear[1]\n",
    "print(x_ice_linear)"
   ]
  },
  {
   "cell_type": "markdown",
   "metadata": {},
   "source": [
    "Below, we plot each the actual and predicted data of ice extent for the years 1979 to 2021."
   ]
  },
  {
   "cell_type": "code",
   "execution_count": 47,
   "metadata": {},
   "outputs": [
    {
     "data": {
      "text/plain": [
       "[<matplotlib.lines.Line2D at 0x7f7bbf29fc10>]"
      ]
     },
     "execution_count": 47,
     "metadata": {},
     "output_type": "execute_result"
    },
    {
     "data": {
      "image/png": "[encoded data removed]",
      "text/plain": [
       "<Figure size 432x288 with 1 Axes>"
      ]
     },
     "metadata": {
      "needs_background": "light"
     },
     "output_type": "display_data"
    }
   ],
   "source": [
    "plt.xlabel(\"Year\")\n",
    "plt.ylabel(\"Arctic Sea Ice Extent (1,000,000 sq km)\")\n",
    "plt.plot(year, extent, 'o')\n",
    "plt.plot(years_plus, ice_plus)"
   ]
  },
  {
   "cell_type": "markdown",
   "metadata": {},
   "source": [
    "How does the predicted ice extent differ from the actual ice extent for each year?\n",
    "\n",
    "What is the estimated ice extent in 2021? What was the actual value?"
   ]
  },
  {
   "cell_type": "code",
   "execution_count": 48,
   "metadata": {},
   "outputs": [
    {
     "data": {
      "text/plain": [
       "7.847075098814301"
      ]
     },
     "execution_count": 48,
     "metadata": {},
     "output_type": "execute_result"
    }
   ],
   "source": [
    "ice_plus[-1]"
   ]
  },
  {
   "cell_type": "code",
   "execution_count": 49,
   "metadata": {},
   "outputs": [
    {
     "data": {
      "text/plain": [
       "6.77"
      ]
     },
     "execution_count": 49,
     "metadata": {},
     "output_type": "execute_result"
    }
   ],
   "source": [
    "extent[-1]"
   ]
  },
  {
   "cell_type": "markdown",
   "metadata": {},
   "source": [
    "The linear model does well until year 2000 (i.e. on the training set), then it fails to account for an apparent increase in the rate of ice melt. Let's use _quadratic_ model to try improving this:\n",
    "\n",
    "$$ y = x_1 \\, t^2 + x_2 \\,t + x_3 $$"
   ]
  },
  {
   "cell_type": "markdown",
   "metadata": {},
   "source": [
    "**Check your answers:**\n",
    "\n",
    "Using the same `y_ice` and `t_ice` as before (i.e. the training set of years 1979 to 2000), fit the quadratic model above to the ice extent (that is, solve for $x_1$, $x_2$, and $x_3$).\n",
    "\n",
    "Store your coefficients in the array `x_ice_quad`."
   ]
  },
  {
   "cell_type": "code",
   "execution_count": 50,
   "metadata": {},
   "outputs": [],
   "source": [
    "#grade (enter your code in this cell - DO NOT DELETE THIS LINE) \n",
    "A_ice2 = np.array([t_ice**2,t_ice,t_ice**0]).T\n",
    "x_ice_quad = least_sq(A_ice2,y_ice)\n"
   ]
  },
  {
   "cell_type": "markdown",
   "metadata": {},
   "source": [
    "We plot the quadratic model below."
   ]
  },
  {
   "cell_type": "code",
   "execution_count": 54,
   "metadata": {},
   "outputs": [
    {
     "name": "stdout",
     "output_type": "stream",
     "text": [
      "-0.001769480519510322 7.0100063524617635 -6933.7215260917255\n"
     ]
    },
    {
     "data": {
      "image/png": "[encoded data removed]",
      "text/plain": [
       "<Figure size 432x288 with 1 Axes>"
      ]
     },
     "metadata": {
      "needs_background": "light"
     },
     "output_type": "display_data"
    }
   ],
   "source": [
    "quad_model = x_ice_quad[0]*years_plus**2 + x_ice_quad[1]*years_plus + x_ice_quad[2]\n",
    "\n",
    "plt.xlabel(\"Year\")\n",
    "plt.ylabel(\"Arctic Sea Ice Extent (1,000,000 sq km)\")\n",
    "plt.plot(year, extent, 'o')\n",
    "plt.plot(years_plus, quad_model )"
   ]
  },
  {
   "cell_type": "markdown",
   "metadata": {},
   "source": [
    "This model better captures the ice extent beyond year 2000.\n",
    "\n",
    "\n",
    "**Try this:**\n",
    "\n",
    "In what year does this quadratic model predict that the ice extent will reach 0 (i.e. the artic ice will have completely melted)?\n",
    "\n",
    "Solve $x_1\\,t^2 + x_2\\,t + x_3 = 0$ with your group to compute the answer below.\n",
    "\n",
    "*Hint: You seek the solutions to a quadratic equation, the analytical formula for which you have likely memorized.*"
   ]
  },
  {
   "cell_type": "code",
   "execution_count": 53,
   "metadata": {},
   "outputs": [
    {
     "name": "stdout",
     "output_type": "stream",
     "text": [
      "-0.001769480519510322 7.0100063524617635 -6933.7215260917255\n",
      "13814.084454405689\n"
     ]
    }
   ],
   "source": [
    "t = (-x_ice_quad[1]**2+(x_ice_quad[1]**2-4*x_ice_quad[0]*x_ice_quad[2])**.5)/2/x_ice_quad[0]\n",
    "print(x_ice_quad[0],x_ice_quad[1],x_ice_quad[2])\n",
    "print(t)"
   ]
  },
  {
   "cell_type": "code",
   "execution_count": null,
   "metadata": {},
   "outputs": [],
   "source": []
  }
 ],
 "metadata": {
  "kernelspec": {
   "display_name": "Python 3",
   "language": "python",
   "name": "python3"
  },
  "language_info": {
   "codemirror_mode": {
    "name": "ipython",
    "version": 3
   },
   "file_extension": ".py",
   "mimetype": "text/x-python",
   "name": "python",
   "nbconvert_exporter": "python",
   "pygments_lexer": "ipython3",
   "version": "3.8.6"
  }
 },
 "nbformat": 4,
 "nbformat_minor": 4
}
